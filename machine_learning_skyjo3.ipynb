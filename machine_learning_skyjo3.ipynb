{
 "cells": [
  {
   "cell_type": "markdown",
   "id": "821fc6b1",
   "metadata": {},
   "source": [
    "Will be used a machine learning, data generating is now in a python file. "
   ]
  },
  {
   "cell_type": "code",
   "execution_count": 1,
   "id": "1ffe7a57",
   "metadata": {},
   "outputs": [],
   "source": [
    "#standard modukles\n",
    "import numpy as np\n",
    "import random as random\n",
    "import time\n",
    "import pandas as pd\n",
    "#using simpleguitk for display, is not needed for computer game\n",
    "#likely not needed un this notebook \n",
    "import simpleguitk as simplegui\n",
    "#foor plotting \n",
    "from matplotlib import pyplot as plt\n",
    "from matplotlib.pyplot import figure\n",
    "#for efficient saving and loading\n",
    "import pickle\n",
    "#skyjp game classes and functions\n",
    "from skyjo_functions4 import *\n",
    "#own functions for machine learning\n",
    "from ml_functions2 import *\n",
    "#for machine learning\n",
    "from xgboost import XGBRegressor"
   ]
  },
  {
   "cell_type": "code",
   "execution_count": 2,
   "id": "e7dcad0f",
   "metadata": {},
   "outputs": [
    {
     "name": "stdout",
     "output_type": "stream",
     "text": [
      "(51, 24)\n",
      "[20  2 20 20 20 12 20 20 20 20 20 20]\n",
      "[20 20 20 20  0 20 20 20 20 20 20  7]\n",
      "[0 0 1 1 1 0 1 0 1 1 0 0 1 1 1 0 1 0 1 1 1 1 0 0]\n",
      "[1 1 0 0 0 0 0 1 0 0 1 1 0 0 0 0 0 1 0 0 0 0 1 1]\n",
      "[ 4  3 30 30 30  7 30  0 30 30  1  5 30 30 30  9 30  7 30 30 30 30  1  3]\n",
      "[ 8  3  3  4  9 10  6  5  5  5  0  7  2 11 11 11 10  1  7  4  2  8  4  0]\n",
      "[20 20 20  0 20 20 20 20 12  5 20 20 20  7 20  1 20 20 20  5  5 20 20 20]\n",
      "[53 93 53 93 53 93 53 93 53 93 53 93 53 93 53 93 53 93 53 93 53 93 53 93]\n",
      "[93 53 93 53 93 53 93 53 93 53 93 53 93 53 93 53 93 53 93 53 93 53 93 53]\n",
      "32.0\n",
      "(51, 24)\n",
      "['open_pile_card', 'own_cards_0', 'own_cards_1', 'own_cards_2', 'own_cards_3', 'own_cards_4', 'own_cards_5', 'own_cards_6', 'own_cards_7', 'own_cards_8', 'own_cards_9', 'own_cards_10', 'own_cards_11', 'other_player_cards_0', 'other_player_cards_1', 'other_player_cards_2', 'other_player_cards_3', 'other_player_cards_4', 'other_player_cards_5', 'other_player_cards_6', 'other_player_cards_7', 'other_player_cards_8', 'other_player_cards_9', 'other_player_cards_10', 'other_player_cards_11', 'action_take_open', 'action_discard', 'discard_value', 'id_player_card', 'numeric_player_card', 'score_self', 'score_other', 'round']\n",
      "33\n",
      "30.0\n",
      "32.0\n",
      "[0. 1. 0. 0. 0. 0. 0. 0. 0. 0. 0. 0. 0. 0. 0. 0. 0. 0. 1. 1. 1. 1. 1. 1.\n",
      " 1. 1. 1. 1. 1. 1. 1. 1. 1. 1. 1. 1. 1. 1. 1. 1. 1. 1. 1. 1. 1. 1. 1. 0.\n",
      " 0. 0. 0.]\n",
      "[0. 1. 0. 0. 0. 0. 0. 0. 0. 0. 0. 0. 0. 0. 0. 0. 0. 0. 1. 1. 1. 1. 1. 1.\n",
      " 1. 1. 1. 1. 1. 1. 1. 1. 1. 1. 1. 1. 1. 1. 1. 1. 1. 1. 1. 1. 1. 1. 1. 0.\n",
      " 0. 1. 1.]\n",
      "['open_pile_card', 'own_cards_0', 'own_cards_1', 'own_cards_2', 'own_cards_3', 'own_cards_4', 'own_cards_5', 'own_cards_6', 'own_cards_7', 'own_cards_8', 'own_cards_9', 'own_cards_10', 'own_cards_11', 'other_player_cards_0', 'other_player_cards_1', 'other_player_cards_2', 'other_player_cards_3', 'other_player_cards_4', 'other_player_cards_5', 'other_player_cards_6', 'other_player_cards_7', 'other_player_cards_8', 'other_player_cards_9', 'other_player_cards_10', 'other_player_cards_11', 'action_take_open', 'action_discard', 'discard_value', 'id_player_card', 'numeric_player_card']\n"
     ]
    }
   ],
   "source": [
    "names=['alpha','beta']\n",
    "nature=['computer','computer']\n",
    "levels=[0,0]\n",
    "scores,turns,last_player,numeric=skyjo_round(names,nature,levels,0,True,True,True) \n",
    "print(numeric.shape)\n",
    "#selected rows array\n",
    "sel1=np.zeros((51))\n",
    "#print the row to see whether it is what it should be \n",
    "#open card on pile\n",
    "sel1[1]=1\n",
    "#own card set\n",
    "print(numeric[18:30,0])\n",
    "sel1[18:30]=1\n",
    "#other card set\n",
    "print(numeric[30:42,0])\n",
    "sel1[30:42]=1\n",
    "#take open \n",
    "print(numeric[42])\n",
    "sel1[42]=1\n",
    "#discard\n",
    "print(numeric[43])\n",
    "sel1[43]=1\n",
    "# discarded closed card\n",
    "print(numeric[44])\n",
    "sel1[44]=1\n",
    "#id of selected player card\n",
    "print(numeric[45])\n",
    "sel1[45]=1\n",
    "#numeric (number of open or 20 for closed) of selected player card\n",
    "print(numeric[46])\n",
    "sel1[46]=1\n",
    "#score, differential is used as target for now both included in collection\n",
    "print(numeric[49])\n",
    "sel1[49]=1\n",
    "print(numeric[50])\n",
    "sel1[50]=1\n",
    "print(sum(sel1))\n",
    "print(numeric.shape)\n",
    "# list of strings which will be pandas header\n",
    "columns=['open_pile_card']\n",
    "for i in range(12):\n",
    "    columns.append('own_cards_'+str(i))\n",
    "for i in range(12):\n",
    "    columns.append('other_player_cards_'+str(i))    \n",
    "columns.append('action_take_open')\n",
    "columns.append('action_discard')\n",
    "columns.append('discard_value')\n",
    "columns.append('id_player_card')\n",
    "columns.append('numeric_player_card')            \n",
    "columns.append('score_self')\n",
    "columns.append('score_other')\n",
    "columns.append('round')\n",
    "print(columns)\n",
    "print(len(columns))\n",
    "#create copy which to be used fields  score not\n",
    "sel2=np.copy(sel1)\n",
    "sel2[48:51]=0\n",
    "#np.savetxt(\"xgb_model1_column2.txt\",sel2)\n",
    "print(sum(sel2))\n",
    "print(sum(sel1))\n",
    "print(sel2)\n",
    "print(sel1)\n",
    "print(columns[0:30])"
   ]
  },
  {
   "cell_type": "code",
   "execution_count": 31,
   "id": "f18686eb",
   "metadata": {},
   "outputs": [
    {
     "name": "stdout",
     "output_type": "stream",
     "text": [
      "['level_rand_levels2_200_4.pkl', 'level_rand_levels2_5000_0.pkl', 'level_rand_levels2_200_2.pkl', 'level_rand_levels2_200_3.pkl', 'level_rand_levels2_1000_3.pkl', 'level_rand_levels2_1000_1.pkl', 'level_rand_levels2_1000_2.pkl', 'level_rand_levels2_1000_5.pkl', 'level_rand_levels2_1000_7.pkl', 'level_rand_levels2_200_0.pkl', 'level_rand_levels2_200_1.pkl', 'level_rand_levels2_1000_0.pkl', 'level_rand_levels2_100_0.pkl', 'level_rand_levels2_1000_4.pkl', 'level_rand_levels2_1000_6.pkl']\n"
     ]
    }
   ],
   "source": [
    "df1=pd.read_pickle('level_rand_levels2_100_0.pkl')\n",
    "path='/home/tobias/ml-testing/games/skyjo'\n",
    "files=[f for f in os.listdir(path) \n",
    "                if f.startswith('level_rand_levels2_') and os.path.isfile(os.path.join(path, f))]\n",
    "print(files)"
   ]
  },
  {
   "cell_type": "markdown",
   "id": "b92e9ea0",
   "metadata": {},
   "source": [
    "Read and combine all files generated with computer mode 2."
   ]
  },
  {
   "cell_type": "code",
   "execution_count": 32,
   "id": "d71be98c",
   "metadata": {},
   "outputs": [
    {
     "name": "stdout",
     "output_type": "stream",
     "text": [
      "1\n",
      "2\n",
      "3\n",
      "4\n",
      "5\n",
      "6\n",
      "7\n",
      "8\n",
      "9\n",
      "10\n",
      "11\n",
      "12\n",
      "13\n",
      "14\n",
      "(781901, 33)    open_pile_card  own_cards_0  own_cards_1  own_cards_2  own_cards_3  \\\n",
      "0              11           20           20           20           20   \n",
      "1              11            2           20           20           20   \n",
      "2               9           20           20           20           20   \n",
      "3              11            2           20           20           20   \n",
      "4              11           20           20           20           20   \n",
      "\n",
      "   own_cards_4  own_cards_5  own_cards_6  own_cards_7  own_cards_8  ...  \\\n",
      "0           20           20           20           11           20  ...   \n",
      "1            9           20           20           20           20  ...   \n",
      "2           20           20           20           11           20  ...   \n",
      "3           11           20           20           20           20  ...   \n",
      "4           20           20           20            9           20  ...   \n",
      "\n",
      "   other_player_cards_10  other_player_cards_11  action_take_open  \\\n",
      "0                     20                     20                 0   \n",
      "1                     20                     20                 1   \n",
      "2                     20                     20                 0   \n",
      "3                     20                     20                 0   \n",
      "4                     20                     20                 0   \n",
      "\n",
      "   action_discard  discard_value  id_player_card  numeric_player_card  \\\n",
      "0               0              3               9                   11   \n",
      "1               0             30               4                    9   \n",
      "2               0              9               7                   11   \n",
      "3               0             12               4                   11   \n",
      "4               0              6               9                    3   \n",
      "\n",
      "   score_self  score_other  round  \n",
      "0          19           66      0  \n",
      "1          66           19      0  \n",
      "2          19           66      0  \n",
      "3          66           19      0  \n",
      "4          19           66      0  \n",
      "\n",
      "[5 rows x 33 columns]\n"
     ]
    }
   ],
   "source": [
    "df=pd.read_pickle(files[0])\n",
    "for i in range(1,len(files)):\n",
    "    print(i)\n",
    "    df1=pd.read_pickle(files[i])\n",
    "    df=pd.concat([df,df1],join='outer', ignore_index=True)\n",
    "    #free space\n",
    "    df1=0\n",
    "print(df.shape,df.head())\n",
    "#uses 14 files of 781901 cases will be still improved "
   ]
  },
  {
   "cell_type": "markdown",
   "id": "b7f05739",
   "metadata": {},
   "source": [
    "It are nearly 800000 rows, but less independent as before. Splitting in test and other sets. "
   ]
  },
  {
   "cell_type": "code",
   "execution_count": 8,
   "id": "bd574512",
   "metadata": {},
   "outputs": [
    {
     "name": "stdout",
     "output_type": "stream",
     "text": [
      "390950\n",
      "390963\n",
      "625521\n",
      "625538\n",
      "(390963, 30) (234575, 30) (234575,)    open_pile_card  own_cards_0  own_cards_1  own_cards_2  own_cards_3  \\\n",
      "0              11           20           20           20           20   \n",
      "1              11            2           20           20           20   \n",
      "2               9           20           20           20           20   \n",
      "3              11            2           20           20           20   \n",
      "4              11           20           20           20           20   \n",
      "\n",
      "   own_cards_4  own_cards_5  own_cards_6  own_cards_7  own_cards_8  ...  \\\n",
      "0           20           20           20           11           20  ...   \n",
      "1            9           20           20           20           20  ...   \n",
      "2           20           20           20           11           20  ...   \n",
      "3           11           20           20           20           20  ...   \n",
      "4           20           20           20            9           20  ...   \n",
      "\n",
      "   other_player_cards_7  other_player_cards_8  other_player_cards_9  \\\n",
      "0                    20                    20                    20   \n",
      "1                    11                    20                     3   \n",
      "2                    20                    20                    20   \n",
      "3                     9                    20                     3   \n",
      "4                    20                    20                    20   \n",
      "\n",
      "   other_player_cards_10  other_player_cards_11  action_take_open  \\\n",
      "0                     20                     20                 0   \n",
      "1                     20                     20                 1   \n",
      "2                     20                     20                 0   \n",
      "3                     20                     20                 0   \n",
      "4                     20                     20                 0   \n",
      "\n",
      "   action_discard  discard_value  id_player_card  numeric_player_card  \n",
      "0               0              3               9                   11  \n",
      "1               0             30               4                    9  \n",
      "2               0              9               7                   11  \n",
      "3               0             12               4                   11  \n",
      "4               0              6               9                    3  \n",
      "\n",
      "[5 rows x 30 columns]\n"
     ]
    }
   ],
   "source": [
    "feature_train,feature_test,feature_valid, target_train,target_test,target_valid=split_test(df.iloc[:,0:30],df.score_self-df.score_other, df.iloc[:,32],0.5,0.8)\n",
    "print(feature_train.shape,feature_test.shape,target_test.shape,feature_train.head())"
   ]
  },
  {
   "cell_type": "markdown",
   "id": "678b5fd1",
   "metadata": {},
   "source": [
    "Now applying standard XGBoost. "
   ]
  },
  {
   "cell_type": "code",
   "execution_count": 10,
   "id": "a072a1ff",
   "metadata": {},
   "outputs": [
    {
     "name": "stdout",
     "output_type": "stream",
     "text": [
      "xgb took 20.0182 seconds\n",
      "standard deviation of test 23.8631 points\n",
      "standard deviation of train 24.4999  points\n",
      "standard deviation of prediction-test 21.6518 points\n",
      "standard deviation of prediction-train 19.5345 points\n",
      "[ 0.          6.         19.53450692 21.65176507]\n"
     ]
    }
   ],
   "source": [
    "ar=do_xgb(feature_train, target_train, feature_test, target_test,6,reg=0)\n",
    "print(ar)"
   ]
  },
  {
   "cell_type": "markdown",
   "id": "78d78d3c",
   "metadata": {},
   "source": [
    "There is an improvement but the difference between test and train is larger than when all values were independent.  \n",
    "\n",
    "Now I am trying different max depths and regulraizations as before. Starting with the regular depth of 6, but this time going done becaus ethe correlatoob is large."
   ]
  },
  {
   "cell_type": "code",
   "execution_count": 23,
   "id": "d6161dff",
   "metadata": {},
   "outputs": [
    {
     "name": "stdout",
     "output_type": "stream",
     "text": [
      "doing case 0\n",
      "xgb took 8.7711 seconds\n",
      "standard deviation of test 23.8631 points\n",
      "standard deviation of train 24.4999  points\n",
      "standard deviation of prediction-test 21.3184 points\n",
      "standard deviation of prediction-train 21.4382 points\n",
      "doing case 1\n",
      "xgb took 10.415 seconds\n",
      "standard deviation of test 23.8631 points\n",
      "standard deviation of train 24.4999  points\n",
      "standard deviation of prediction-test 21.3588 points\n",
      "standard deviation of prediction-train 21.4371 points\n",
      "doing case 2\n",
      "xgb took 8.5938 seconds\n",
      "standard deviation of test 23.8631 points\n",
      "standard deviation of train 24.4999  points\n",
      "standard deviation of prediction-test 21.3495 points\n",
      "standard deviation of prediction-train 21.4513 points\n",
      "doing case 3\n",
      "xgb took 8.454 seconds\n",
      "standard deviation of test 23.8631 points\n",
      "standard deviation of train 24.4999  points\n",
      "standard deviation of prediction-test 21.3369 points\n",
      "standard deviation of prediction-train 21.4817 points\n",
      "doing case 4\n",
      "xgb took 8.5522 seconds\n",
      "standard deviation of test 23.8631 points\n",
      "standard deviation of train 24.4999  points\n",
      "standard deviation of prediction-test 21.3194 points\n",
      "standard deviation of prediction-train 21.4898 points\n",
      "doing case 5\n",
      "xgb took 10.3666 seconds\n",
      "standard deviation of test 23.8631 points\n",
      "standard deviation of train 24.4999  points\n",
      "standard deviation of prediction-test 21.3544 points\n",
      "standard deviation of prediction-train 21.5211 points\n",
      "doing case 6\n",
      "xgb took 11.3067 seconds\n",
      "standard deviation of test 23.8631 points\n",
      "standard deviation of train 24.4999  points\n",
      "standard deviation of prediction-test 21.3496 points\n",
      "standard deviation of prediction-train 21.5424 points\n",
      "doing case 7\n",
      "xgb took 12.9641 seconds\n",
      "standard deviation of test 23.8631 points\n",
      "standard deviation of train 24.4999  points\n",
      "standard deviation of prediction-test 21.3827 points\n",
      "standard deviation of prediction-train 21.578 points\n",
      "doing case 8\n",
      "xgb took 17.5216 seconds\n",
      "standard deviation of test 23.8631 points\n",
      "standard deviation of train 24.4999  points\n",
      "standard deviation of prediction-test 21.4211 points\n",
      "standard deviation of prediction-train 21.6512 points\n",
      "doing case 9\n",
      "xgb took 14.4416 seconds\n",
      "standard deviation of test 23.8631 points\n",
      "standard deviation of train 24.4999  points\n",
      "standard deviation of prediction-test 21.4561 points\n",
      "standard deviation of prediction-train 21.712 points\n",
      "doing case 10\n",
      "xgb took 14.2423 seconds\n",
      "standard deviation of test 23.8631 points\n",
      "standard deviation of train 24.4999  points\n",
      "standard deviation of prediction-test 21.5173 points\n",
      "standard deviation of prediction-train 21.7929 points\n",
      "doing case 11\n",
      "xgb took 13.8794 seconds\n",
      "standard deviation of test 23.8631 points\n",
      "standard deviation of train 24.4999  points\n",
      "standard deviation of prediction-test 21.5624 points\n",
      "standard deviation of prediction-train 21.8761 points\n",
      "doing case 12\n",
      "xgb took 12.9827 seconds\n",
      "standard deviation of test 23.8631 points\n",
      "standard deviation of train 24.4999  points\n",
      "standard deviation of prediction-test 21.6127 points\n",
      "standard deviation of prediction-train 21.9638 points\n",
      "doing case 13\n",
      "xgb took 11.8126 seconds\n",
      "standard deviation of test 23.8631 points\n",
      "standard deviation of train 24.4999  points\n",
      "standard deviation of prediction-test 21.7298 points\n",
      "standard deviation of prediction-train 22.1024 points\n",
      "doing case 14\n",
      "xgb took 11.2403 seconds\n",
      "standard deviation of test 23.8631 points\n",
      "standard deviation of train 24.4999  points\n",
      "standard deviation of prediction-test 21.8725 points\n",
      "standard deviation of prediction-train 22.2646 points\n",
      "doing case 15\n",
      "xgb took 9.811 seconds\n",
      "standard deviation of test 23.8631 points\n",
      "standard deviation of train 24.4999  points\n",
      "standard deviation of prediction-test 22.1682 points\n",
      "standard deviation of prediction-train 22.6034 points\n",
      "doing case 16\n",
      "xgb took 8.2282 seconds\n",
      "standard deviation of test 23.8631 points\n",
      "standard deviation of train 24.4999  points\n",
      "standard deviation of prediction-test 22.6167 points\n",
      "standard deviation of prediction-train 23.1166 points\n",
      "doing case 17\n",
      "xgb took 6.584 seconds\n",
      "standard deviation of test 23.8631 points\n",
      "standard deviation of train 24.4999  points\n",
      "standard deviation of prediction-test 23.2844 points\n",
      "standard deviation of prediction-train 23.8518 points\n",
      "doing case 18\n",
      "xgb took 5.7758 seconds\n",
      "standard deviation of test 23.8631 points\n",
      "standard deviation of train 24.4999  points\n",
      "standard deviation of prediction-test 23.722 points\n",
      "standard deviation of prediction-train 24.3449 points\n",
      "doing case 19\n",
      "xgb took 5.3745 seconds\n",
      "standard deviation of test 23.8631 points\n",
      "standard deviation of train 24.4999  points\n",
      "standard deviation of prediction-test 23.8631 points\n",
      "standard deviation of prediction-train 24.4999 points\n"
     ]
    }
   ],
   "source": [
    "loop_reg(feature_train, target_train, feature_test, target_test,3,1000,1.414,20,\"xgb_lev2_maxd3.txt\")"
   ]
  },
  {
   "cell_type": "code",
   "execution_count": 24,
   "id": "00c24162",
   "metadata": {},
   "outputs": [
    {
     "name": "stdout",
     "output_type": "stream",
     "text": [
      "minimum standard deviation of (prediction-test data) 21.3184 of max-depth=3\n",
      "minimum standard deviation of (prediction-test data) 21.3188 of max-depth=4\n",
      "minimum standard deviation of (prediction-test data) 21.362 of max-depth=5\n",
      "minimum standard deviation of (prediction-test data) 21.3889 of max-depth=6\n"
     ]
    }
   ],
   "source": [
    "resa=np.loadtxt('xgb_lev2_maxd3.txt')\n",
    "print(f\"minimum standard deviation of (prediction-test data) {round(min(resa[3]),4)} of max-depth=3\")\n",
    "resb=np.loadtxt('xgb_lev2_maxd4.txt')\n",
    "print(f\"minimum standard deviation of (prediction-test data) {round(min(resb[3]),4)} of max-depth=4\")\n",
    "resc=np.loadtxt('xgb_lev2_maxd5.txt')\n",
    "print(f\"minimum standard deviation of (prediction-test data) {round(min(resc[3]),4)} of max-depth=5\")\n",
    "resd=np.loadtxt('xgb_lev2_maxd6.txt')\n",
    "print(f\"minimum standard deviation of (prediction-test data) {round(min(resd[3]),4)} of max-depth=6\")"
   ]
  },
  {
   "cell_type": "code",
   "execution_count": 26,
   "id": "09451d80",
   "metadata": {},
   "outputs": [
    {
     "name": "stdout",
     "output_type": "stream",
     "text": [
      "The regularization of the best standard deviation is 1000.0\n"
     ]
    },
    {
     "data": {
      "image/png": "[encoded data removed]",
      "text/plain": [
       "<Figure size 640x480 with 1 Axes>"
      ]
     },
     "metadata": {},
     "output_type": "display_data"
    }
   ],
   "source": [
    "plt.plot(resb[0],resb[2],'v',ms=5,color='black',label='train one turn max_depth=4') \n",
    "plt.plot(resb[0],resb[3],'v',ms=5,color='gray',label='test one turn max_depth=4')\n",
    "plt.plot(resc[0],resc[2],'o',ms=5,color='blue',label='train one turn max_depth=5') \n",
    "plt.plot(resc[0],resc[3],'o',ms=5,color='red',label='test one turn max_depth=5')\n",
    "plt.plot(resa[0],resa[2],'*',ms=5,color='magenta',label='train one turn max_depth=3') \n",
    "plt.plot(resa[0],resa[3],'*',ms=5,color='green',label='test one turn max_depth=3')\n",
    "plt.legend(loc=\"best\")\n",
    "plt.xscale(\"log\")\n",
    "#plt.ylim(55,65)\n",
    "plt.xlabel(\"alpha regularization\")\n",
    "plt.ylabel(\"standard deviation of data-prediction [points]\")\n",
    "print(f\"The regularization of the best standard deviation is {resa[0,np.argmin(resa[3])]}\")\n",
    "#means in principle more lower should be added ? but also random effects matter "
   ]
  },
  {
   "cell_type": "code",
   "execution_count": 27,
   "id": "62bda0f6",
   "metadata": {},
   "outputs": [],
   "source": [
    "\n",
    "#excute best model\n",
    "regxl28=XGBRegressor(max_depth=3,reg_alpha=1000).fit(feature_train, target_train)\n",
    "#and save it\n",
    "regxl28.save_model(\"xgb_model3.json\")\n",
    "\n"
   ]
  },
  {
   "cell_type": "markdown",
   "id": "e1e20cbb",
   "metadata": {},
   "source": [
    "A smaller depth seems here better. That is not so suprsing since less data is used for training.\n",
    "It is doubtful that it perform better thus. \n",
    "\n",
    "Other options should be explored. Deep learning seem natural, the fact that features are a combination of values and markers could make problems means it is only regression but also classification. Still, likely other models should be explored also.\n",
    "\n",
    "Another options is extracting paramters for xgboost, natural is largest value of cards, average value, number of open, closed cards instead of the 12 card values, that are then 14 features. This is now applied."
   ]
  },
  {
   "cell_type": "code",
   "execution_count": 36,
   "id": "fd11f7ba",
   "metadata": {},
   "outputs": [
    {
     "name": "stdout",
     "output_type": "stream",
     "text": [
      "   open_pile_card  own_cards_0  own_cards_1  own_cards_2  own_cards_3  \\\n",
      "0              11           20           20           20           20   \n",
      "1              11            2           20           20           20   \n",
      "2               9           20           20           20           20   \n",
      "3              11            2           20           20           20   \n",
      "4              11           20           20           20           20   \n",
      "\n",
      "   own_cards_4  own_cards_5  own_cards_6  own_cards_7  own_cards_8  ...  \\\n",
      "0           20           20           20           11           20  ...   \n",
      "1            9           20           20           20           20  ...   \n",
      "2           20           20           20           11           20  ...   \n",
      "3           11           20           20           20           20  ...   \n",
      "4           20           20           20            9           20  ...   \n",
      "\n",
      "   score_other  round  own_n_closed  own_n_vanished  own_max  own_sum  \\\n",
      "0           66      0            10               0     11.0     22.0   \n",
      "1           19      0            10               0      9.0     11.0   \n",
      "2           66      0            10               0     11.0     14.0   \n",
      "3           19      0            10               0     11.0     13.0   \n",
      "4           66      0            10               0      9.0     12.0   \n",
      "\n",
      "   other_player_n_closed  other_player_n_vanished  other_player_max  \\\n",
      "0                     10                        0               9.0   \n",
      "1                     10                        0              11.0   \n",
      "2                     10                        0              11.0   \n",
      "3                     10                        0               9.0   \n",
      "4                     10                        0              12.0   \n",
      "\n",
      "   other_player_sum  \n",
      "0              11.0  \n",
      "1              14.0  \n",
      "2              13.0  \n",
      "3              12.0  \n",
      "4              14.0  \n",
      "\n",
      "[5 rows x 41 columns]\n",
      "Index(['open_pile_card', 'own_cards_0', 'own_cards_1', 'own_cards_2',\n",
      "       'own_cards_3', 'own_cards_4', 'own_cards_5', 'own_cards_6',\n",
      "       'own_cards_7', 'own_cards_8', 'own_cards_9', 'own_cards_10',\n",
      "       'own_cards_11', 'other_player_cards_0', 'other_player_cards_1',\n",
      "       'other_player_cards_2', 'other_player_cards_3', 'other_player_cards_4',\n",
      "       'other_player_cards_5', 'other_player_cards_6', 'other_player_cards_7',\n",
      "       'other_player_cards_8', 'other_player_cards_9', 'other_player_cards_10',\n",
      "       'other_player_cards_11', 'action_take_open', 'action_discard',\n",
      "       'discard_value', 'id_player_card', 'numeric_player_card', 'score_self',\n",
      "       'score_other', 'round', 'own_n_closed', 'own_n_vanished', 'own_max',\n",
      "       'own_sum', 'other_player_n_closed', 'other_player_n_vanished',\n",
      "       'other_player_max', 'other_player_sum'],\n",
      "      dtype='object')\n"
     ]
    }
   ],
   "source": [
    "df['own_n_closed']=df.loc[:,'own_cards_0':'own_cards_11'][df.loc[:,'own_cards_0':'own_cards_11']==20].count(axis=1)\n",
    "df['own_n_vanished']=df.loc[:,'own_cards_0':'own_cards_11'][df.loc[:,'own_cards_0':'own_cards_11']==30].count(axis=1)\n",
    "df['own_max']=df.loc[:,'own_cards_0':'own_cards_11'][(df.loc[:,'own_cards_0':'own_cards_11']!=20) & (df.loc[:,'own_cards_0':'own_cards_11']!=30)].max(axis=1)\n",
    "df['own_sum']=df.loc[:,'own_cards_0':'own_cards_11'][(df.loc[:,'own_cards_0':'own_cards_11']!=20) & (df.loc[:,'own_cards_0':'own_cards_11']!=30)].sum(axis=1)\n",
    "df['other_player_n_closed']=df.loc[:,'other_player_cards_0':'other_player_cards_11'][df.loc[:,'other_player_cards_0':'other_player_cards_11']==20].count(axis=1)\n",
    "df['other_player_n_vanished']=df.loc[:,'other_player_cards_0':'other_player_cards_11'][df.loc[:,'other_player_cards_0':'other_player_cards_11']==30].count(axis=1)\n",
    "df['other_player_max']=df.loc[:,'other_player_cards_0':'other_player_cards_11'][(df.loc[:,'other_player_cards_0':'other_player_cards_11']!=20) & (df.loc[:,'other_player_cards_0':'other_player_cards_11']!=30)].max(axis=1)\n",
    "df['other_player_sum']=df.loc[:,'other_player_cards_0':'other_player_cards_11'][(df.loc[:,'other_player_cards_0':'other_player_cards_11']!=20) & (df.loc[:,'other_player_cards_0':'other_player_cards_11']!=30)].sum(axis=1)\n",
    "\n",
    "print(df.head())\n",
    "print(df.columns)"
   ]
  },
  {
   "cell_type": "code",
   "execution_count": 38,
   "id": "6ca69938",
   "metadata": {},
   "outputs": [],
   "source": [
    "newcolumns=['open_pile_card', 'own_n_closed', 'own_n_vanished', 'own_max',\n",
    "       'own_sum', 'other_player_n_closed', 'other_player_n_vanished',\n",
    "       'other_player_max', 'other_player_sum', 'action_take_open', 'action_discard',\n",
    "       'discard_value','numeric_player_card', 'score_self',\n",
    "       'score_other', 'round']\n",
    "#these to be used to make new df with those columns in this order \n",
    "#also exclude id player card since columns are now ignored anyway "
   ]
  },
  {
   "cell_type": "markdown",
   "id": "3945c4e3",
   "metadata": {},
   "source": [
    "I now select these values. The basic order is retained, the last three are scores and rounds. That means there are now 13 features. "
   ]
  },
  {
   "cell_type": "code",
   "execution_count": 42,
   "id": "ff745f47",
   "metadata": {},
   "outputs": [
    {
     "name": "stdout",
     "output_type": "stream",
     "text": [
      "Index(['open_pile_card', 'own_n_closed', 'own_n_vanished', 'own_max',\n",
      "       'own_sum', 'other_player_n_closed', 'other_player_n_vanished',\n",
      "       'other_player_max', 'other_player_sum', 'action_take_open',\n",
      "       'action_discard', 'discard_value', 'numeric_player_card', 'score_self',\n",
      "       'score_other', 'round'],\n",
      "      dtype='object')\n",
      "   open_pile_card  own_n_closed  own_n_vanished  own_max  own_sum  \\\n",
      "0              11            10               0     11.0     22.0   \n",
      "1              11            10               0      9.0     11.0   \n",
      "2               9            10               0     11.0     14.0   \n",
      "3              11            10               0     11.0     13.0   \n",
      "4              11            10               0      9.0     12.0   \n",
      "\n",
      "   other_player_n_closed  other_player_n_vanished  other_player_max  \\\n",
      "0                     10                        0               9.0   \n",
      "1                     10                        0              11.0   \n",
      "2                     10                        0              11.0   \n",
      "3                     10                        0               9.0   \n",
      "4                     10                        0              12.0   \n",
      "\n",
      "   other_player_sum  action_take_open  action_discard  discard_value  \\\n",
      "0              11.0                 0               0              3   \n",
      "1              14.0                 1               0             30   \n",
      "2              13.0                 0               0              9   \n",
      "3              12.0                 0               0             12   \n",
      "4              14.0                 0               0              6   \n",
      "\n",
      "   numeric_player_card  score_self  score_other  round  \n",
      "0                   11          19           66      0  \n",
      "1                    9          66           19      0  \n",
      "2                   11          19           66      0  \n",
      "3                   11          66           19      0  \n",
      "4                    3          19           66      0  \n",
      "(781901, 16)\n"
     ]
    }
   ],
   "source": [
    "df2=df.loc[:,newcolumns]\n",
    "print(df2.columns)\n",
    "print(df2.head())\n",
    "print(df2.shape)"
   ]
  },
  {
   "cell_type": "code",
   "execution_count": 43,
   "id": "3b94e0ed",
   "metadata": {},
   "outputs": [
    {
     "name": "stdout",
     "output_type": "stream",
     "text": [
      "390950\n",
      "390962\n",
      "625521\n",
      "625521\n",
      "(390962, 13) (234559, 13) (234559,)    open_pile_card  own_n_closed  own_n_vanished  own_max  own_sum  \\\n",
      "0              11            10               0     11.0     22.0   \n",
      "1              11            10               0      9.0     11.0   \n",
      "2               9            10               0     11.0     14.0   \n",
      "3              11            10               0     11.0     13.0   \n",
      "4              11            10               0      9.0     12.0   \n",
      "\n",
      "   other_player_n_closed  other_player_n_vanished  other_player_max  \\\n",
      "0                     10                        0               9.0   \n",
      "1                     10                        0              11.0   \n",
      "2                     10                        0              11.0   \n",
      "3                     10                        0               9.0   \n",
      "4                     10                        0              12.0   \n",
      "\n",
      "   other_player_sum  action_take_open  action_discard  discard_value  \\\n",
      "0              11.0                 0               0              3   \n",
      "1              14.0                 1               0             30   \n",
      "2              13.0                 0               0              9   \n",
      "3              12.0                 0               0             12   \n",
      "4              14.0                 0               0              6   \n",
      "\n",
      "   numeric_player_card  \n",
      "0                   11  \n",
      "1                    9  \n",
      "2                   11  \n",
      "3                   11  \n",
      "4                    3  \n"
     ]
    }
   ],
   "source": [
    "feature_train,feature_test,feature_valid, target_train,target_test,target_valid=split_test(df2.iloc[:,0:13],df2.score_self-df2.score_other, df.iloc[:,15],0.5,0.8)\n",
    "print(feature_train.shape,feature_test.shape,target_test.shape,feature_train.head())"
   ]
  },
  {
   "cell_type": "code",
   "execution_count": 44,
   "id": "7f560f77",
   "metadata": {},
   "outputs": [
    {
     "name": "stdout",
     "output_type": "stream",
     "text": [
      "xgb took 12.3428 seconds\n",
      "standard deviation of test 23.8638 points\n",
      "standard deviation of train 24.4999  points\n",
      "standard deviation of prediction-test 21.3176 points\n",
      "standard deviation of prediction-train 21.4526 points\n",
      "[ 0.          6.         21.45260901 21.31760725]\n"
     ]
    }
   ],
   "source": [
    "ar=do_xgb(feature_train, target_train, feature_test, target_test,6,reg=0)\n",
    "print(ar)"
   ]
  },
  {
   "cell_type": "markdown",
   "id": "9a05511d",
   "metadata": {},
   "source": [
    "The prediction performs now better in test, it is worse in train, but also the baseline is worse in train. Thus it is an improvement overall. I now run some parameters as before. "
   ]
  },
  {
   "cell_type": "code",
   "execution_count": 55,
   "id": "467508a9",
   "metadata": {},
   "outputs": [
    {
     "name": "stdout",
     "output_type": "stream",
     "text": [
      "doing case 0\n",
      "xgb took 11.9313 seconds\n",
      "standard deviation of test 23.8638 points\n",
      "standard deviation of train 24.4999  points\n",
      "standard deviation of prediction-test 21.3478 points\n",
      "standard deviation of prediction-train 21.2633 points\n",
      "doing case 1\n",
      "xgb took 12.3339 seconds\n",
      "standard deviation of test 23.8638 points\n",
      "standard deviation of train 24.4999  points\n",
      "standard deviation of prediction-test 21.3409 points\n",
      "standard deviation of prediction-train 21.2818 points\n",
      "doing case 2\n",
      "xgb took 13.497 seconds\n",
      "standard deviation of test 23.8638 points\n",
      "standard deviation of train 24.4999  points\n",
      "standard deviation of prediction-test 21.3342 points\n",
      "standard deviation of prediction-train 21.3083 points\n",
      "doing case 3\n",
      "xgb took 15.8833 seconds\n",
      "standard deviation of test 23.8638 points\n",
      "standard deviation of train 24.4999  points\n",
      "standard deviation of prediction-test 21.3257 points\n",
      "standard deviation of prediction-train 21.347 points\n",
      "doing case 4\n",
      "xgb took 17.855 seconds\n",
      "standard deviation of test 23.8638 points\n",
      "standard deviation of train 24.4999  points\n",
      "standard deviation of prediction-test 21.3123 points\n",
      "standard deviation of prediction-train 21.3849 points\n",
      "doing case 5\n",
      "xgb took 17.8112 seconds\n",
      "standard deviation of test 23.8638 points\n",
      "standard deviation of train 24.4999  points\n",
      "standard deviation of prediction-test 21.3124 points\n",
      "standard deviation of prediction-train 21.4328 points\n",
      "doing case 6\n",
      "xgb took 18.9879 seconds\n",
      "standard deviation of test 23.8638 points\n",
      "standard deviation of train 24.4999  points\n",
      "standard deviation of prediction-test 21.3095 points\n",
      "standard deviation of prediction-train 21.4757 points\n",
      "doing case 7\n",
      "xgb took 17.014 seconds\n",
      "standard deviation of test 23.8638 points\n",
      "standard deviation of train 24.4999  points\n",
      "standard deviation of prediction-test 21.2992 points\n",
      "standard deviation of prediction-train 21.5306 points\n",
      "doing case 8\n",
      "xgb took 17.0702 seconds\n",
      "standard deviation of test 23.8638 points\n",
      "standard deviation of train 24.4999  points\n",
      "standard deviation of prediction-test 21.2878 points\n",
      "standard deviation of prediction-train 21.5756 points\n",
      "doing case 9\n",
      "xgb took 16.8224 seconds\n",
      "standard deviation of test 23.8638 points\n",
      "standard deviation of train 24.4999  points\n",
      "standard deviation of prediction-test 21.2858 points\n",
      "standard deviation of prediction-train 21.6183 points\n",
      "doing case 10\n",
      "xgb took 17.4784 seconds\n",
      "standard deviation of test 23.8638 points\n",
      "standard deviation of train 24.4999  points\n",
      "standard deviation of prediction-test 21.2903 points\n",
      "standard deviation of prediction-train 21.6596 points\n",
      "doing case 11\n",
      "xgb took 17.6085 seconds\n",
      "standard deviation of test 23.8638 points\n",
      "standard deviation of train 24.4999  points\n",
      "standard deviation of prediction-test 21.3041 points\n",
      "standard deviation of prediction-train 21.7084 points\n",
      "doing case 12\n",
      "xgb took 16.7952 seconds\n",
      "standard deviation of test 23.8638 points\n",
      "standard deviation of train 24.4999  points\n",
      "standard deviation of prediction-test 21.3108 points\n",
      "standard deviation of prediction-train 21.7508 points\n",
      "doing case 13\n",
      "xgb took 16.293 seconds\n",
      "standard deviation of test 23.8638 points\n",
      "standard deviation of train 24.4999  points\n",
      "standard deviation of prediction-test 21.3319 points\n",
      "standard deviation of prediction-train 21.7934 points\n",
      "doing case 14\n",
      "xgb took 16.0118 seconds\n",
      "standard deviation of test 23.8638 points\n",
      "standard deviation of train 24.4999  points\n",
      "standard deviation of prediction-test 21.3579 points\n",
      "standard deviation of prediction-train 21.8368 points\n",
      "doing case 15\n",
      "xgb took 16.218 seconds\n",
      "standard deviation of test 23.8638 points\n",
      "standard deviation of train 24.4999  points\n",
      "standard deviation of prediction-test 21.3936 points\n",
      "standard deviation of prediction-train 21.889 points\n",
      "doing case 16\n",
      "xgb took 15.2624 seconds\n",
      "standard deviation of test 23.8638 points\n",
      "standard deviation of train 24.4999  points\n",
      "standard deviation of prediction-test 21.4353 points\n",
      "standard deviation of prediction-train 21.942 points\n",
      "doing case 17\n",
      "xgb took 12.8038 seconds\n",
      "standard deviation of test 23.8638 points\n",
      "standard deviation of train 24.4999  points\n",
      "standard deviation of prediction-test 21.4793 points\n",
      "standard deviation of prediction-train 21.9997 points\n",
      "doing case 18\n",
      "xgb took 11.5381 seconds\n",
      "standard deviation of test 23.8638 points\n",
      "standard deviation of train 24.4999  points\n",
      "standard deviation of prediction-test 21.5431 points\n",
      "standard deviation of prediction-train 22.0804 points\n",
      "doing case 19\n",
      "xgb took 9.1038 seconds\n",
      "standard deviation of test 23.8638 points\n",
      "standard deviation of train 24.4999  points\n",
      "standard deviation of prediction-test 21.6111 points\n",
      "standard deviation of prediction-train 22.1655 points\n"
     ]
    }
   ],
   "source": [
    "loop_reg(feature_train, target_train, feature_test, target_test,7,100,1.414,20,\"xgb_lev2feat_eng_maxd7.txt\")"
   ]
  },
  {
   "cell_type": "code",
   "execution_count": 56,
   "id": "760f9ffb",
   "metadata": {},
   "outputs": [
    {
     "name": "stdout",
     "output_type": "stream",
     "text": [
      "minimum standard deviation of (prediction-test data) 21.271 of max-depth=4\n",
      "minimum standard deviation of (prediction-test data) 21.2704 of max-depth=5\n",
      "minimum standard deviation of (prediction-test data) 21.2748 of max-depth=6\n",
      "minimum standard deviation of (prediction-test data) 21.2858 of max-depth=7\n"
     ]
    }
   ],
   "source": [
    "resfb=np.loadtxt('xgb_lev2feat_eng_maxd4.txt')\n",
    "print(f\"minimum standard deviation of (prediction-test data) {round(min(resfb[3]),4)} of max-depth=4\")\n",
    "resfc=np.loadtxt('xgb_lev2feat_eng_maxd5.txt')\n",
    "print(f\"minimum standard deviation of (prediction-test data) {round(min(resfc[3]),4)} of max-depth=5\")\n",
    "resfd=np.loadtxt('xgb_lev2feat_eng_maxd6.txt')\n",
    "print(f\"minimum standard deviation of (prediction-test data) {round(min(resfd[3]),4)} of max-depth=6\")\n",
    "resfe=np.loadtxt('xgb_lev2feat_eng_maxd7.txt')\n",
    "print(f\"minimum standard deviation of (prediction-test data) {round(min(resfe[3]),4)} of max-depth=7\")"
   ]
  },
  {
   "cell_type": "code",
   "execution_count": 52,
   "id": "10f91f5d",
   "metadata": {},
   "outputs": [
    {
     "name": "stdout",
     "output_type": "stream",
     "text": [
      "The regularization of the best standard deviation is 1598.0680753821337\n"
     ]
    },
    {
     "data": {
      "image/png": "[encoded data removed]",
      "text/plain": [
       "<Figure size 640x480 with 1 Axes>"
      ]
     },
     "metadata": {},
     "output_type": "display_data"
    }
   ],
   "source": [
    "plt.plot(resfc[0],resfc[2],'*',ms=5,color='red',label='train one turn max_depth=5') \n",
    "plt.plot(resfc[0],resfc[3],'*',ms=5,color='blue',label='test one turn max_depth=5')\n",
    "plt.plot(resfd[0],resfd[2],'v',ms=5,color='black',label='train one turn max_depth=6') \n",
    "plt.plot(resfd[0],resfd[3],'v',ms=5,color='gray',label='test one turn max_depth=6')\n",
    "plt.legend(loc=\"best\")\n",
    "plt.xscale(\"log\")\n",
    "#plt.ylim(55,65)\n",
    "plt.xlabel(\"alpha regularization\")\n",
    "plt.ylabel(\"standard deviation of data-prediction [points]\")\n",
    "print(f\"The regularization of the best standard deviation is {resfd[0,np.argmin(resfd[3])]}\")"
   ]
  },
  {
   "cell_type": "code",
   "execution_count": null,
   "id": "5310f0f6",
   "metadata": {},
   "outputs": [],
   "source": []
  }
 ],
 "metadata": {
  "kernelspec": {
   "display_name": "Python 3 (ipykernel)",
   "language": "python",
   "name": "python3"
  },
  "language_info": {
   "codemirror_mode": {
    "name": "ipython",
    "version": 3
   },
   "file_extension": ".py",
   "mimetype": "text/x-python",
   "name": "python",
   "nbconvert_exporter": "python",
   "pygments_lexer": "ipython3",
   "version": "3.8.15"
  }
 },
 "nbformat": 4,
 "nbformat_minor": 5
}
