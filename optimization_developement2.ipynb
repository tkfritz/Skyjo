{
 "cells": [
  {
   "cell_type": "markdown",
   "id": "a4bfd578",
   "metadata": {},
   "source": [
    "# Developement of optimization algorithm\n",
    "\n",
    "The past attemps of improving the computer win percentage beyound the results fitting random data sets were not successful. When using the improved computer the main problem was that the computer mainly fit the computer model but that it did not improve in more general cases.\n",
    "There are not enough computer versus human to use them efficiently but possible the same problem exist also there.\n",
    "\n",
    "Thus a new method is needed. \n",
    "The steps of it are\n",
    "\n",
    "0) start with random model or with result from other fits? \n",
    "1) create a new computer model rather random first\n",
    "later gradient methods can be used to combine past models\n",
    "2) play sufficently often against existing models that win percentages are reliable enough. \n",
    "\n",
    "Iterate step 1 to 2 for some time, test against humans sometimes.\n",
    "\n",
    "Do the models need a random component? Can be set easily to 0, with a paramter, the oppiste is not true, thus included.  "
   ]
  },
  {
   "cell_type": "markdown",
   "id": "1913d5a2",
   "metadata": {},
   "source": [
    "Steps needed:\n",
    "    1) New random model which follows the same principle than the not random models need to be build.\n",
    "    2) Full model or step wise?\n",
    "\n",
    "Full means best option is predicted from a single model. \n",
    "Otherwise only each step is predicted, still needs information on the previous steps in the process. \n",
    "\n",
    "I decide for step wise. "
   ]
  },
  {
   "cell_type": "markdown",
   "id": "c98a1575",
   "metadata": {},
   "source": [
    "1) Is whether to take open card. Is binary, thus logistic function used. Parameters, for now minumum amount no chance to consider vanishing card for now:\n",
    "    value_open_card, sum_own, own_n_closed, sum_other, other_n_closed\n",
    "2) (Is not always applied) Is whether to take previously closed card: Is binary, thus logistic function used. Parameters, for now minumum amount no chance to consider vanishing card for now:\n",
    "    value_closed_card, sum_own, own_n_closed, sum_other, other_n_closed\n",
    "3) which own card to give if not random trun which is random, is numeric, options are the cards available and closed cards, depends on available cards, in particular the largest value, when that is used exclusively of the open one, it gets a binary problem, again logistic, parameters: Value of_exchangable_card, max_own, sum_own, own_n_closed, sum_other, other_n_closed\n",
    " \n",
    " delta_score (own-other current score) would make sense for all but more difficult to add, keep it simple for now "
   ]
  },
  {
   "cell_type": "markdown",
   "id": "c7a1a6e9",
   "metadata": {},
   "source": [
    "Means that random is not anymore random here but more clever but fine as start."
   ]
  },
  {
   "cell_type": "code",
   "execution_count": 1,
   "id": "a9161a78",
   "metadata": {},
   "outputs": [],
   "source": [
    "import numpy as np\n",
    "import random as random\n",
    "import scipy\n",
    "#using simpleguitk for display, is not needed for computer game\n",
    "import simpleguitk as simplegui\n",
    "import time\n",
    "#new ones\n",
    "import pandas as pd\n",
    "#ml methods\n",
    "from xgboost import XGBRegressor\n",
    "from xgboost import XGBClassifier\n",
    "#logistic regression\n",
    "from sklearn.linear_model import LogisticRegression\n",
    "from sklearn.linear_model import LinearRegression\n",
    "import os\n",
    "#skyjo game classes and functions \n",
    "from skyjo_functions4 import *\n",
    "#own functions for machine learning\n",
    "from ml_functions2 import *\n",
    "#for plotting \n",
    "from matplotlib import pyplot as plt\n",
    "from matplotlib.pyplot import figure\n",
    "import seaborn as sns\n",
    "\n",
    "#for confidence intervalls\n",
    "from scipy.stats import beta\n",
    "#for splitting\n",
    "from sklearn.model_selection import train_test_split\n",
    "#confusing matrix\n",
    "from sklearn.metrics import confusion_matrix"
   ]
  },
  {
   "cell_type": "markdown",
   "id": "aeccc212",
   "metadata": {},
   "source": []
  },
  {
   "cell_type": "markdown",
   "id": "780d7ce3",
   "metadata": {},
   "source": [
    "Now I work on the fitting algorithm. The method is gradient fit, but it is not against a constant truth asusual but a changing model. At the beginning it is just, the all 0 model. As the first step all other parameters are separatedly changed by an arbitrary step. "
   ]
  },
  {
   "cell_type": "code",
   "execution_count": 2,
   "id": "8bc76ebd",
   "metadata": {},
   "outputs": [],
   "source": [
    "#means changes within the function do not have an effect outside of it , copy it to the top functions does not change anything \n",
    "def first_gradient_step(open_steps,discard_steps,value_steps,realizations):\n",
    "    n_it=realizations\n",
    "    results=np.zeros((40,19))\n",
    "    for j in range(results.shape[1]):\n",
    "        print(f\"doing case {j}\")\n",
    "        level20_open_variable=np.zeros((6))\n",
    "        level20_discard_variable=np.zeros((6))\n",
    "        level20_value_variable=np.zeros((7))\n",
    "        level21_open_variable=np.zeros((6))\n",
    "        level21_discard_variable=np.zeros((6))\n",
    "        level21_value_variable=np.zeros((7))\n",
    "        if j<6:\n",
    "            level21_open_variable[j]=open_steps[j]\n",
    "        elif j<12:\n",
    "            level21_discard_variable[j-6]=discard_steps[j-6]\n",
    "        else:\n",
    "            level21_value_variable[j-12]=value_steps[j-12]    \n",
    "        print(level21_open_variable,level21_discard_variable,level21_value_variable)\n",
    "        results[0:6,j]=level20_open_variable\n",
    "        results[6:12,j]=level20_discard_variable\n",
    "        results[12:19,j]=level20_value_variable    \n",
    "        results[19:25,j]=level21_open_variable\n",
    "        results[25:31,j]=level21_discard_variable\n",
    "        results[31:38,j]=level21_value_variable         \n",
    "        win20=0\n",
    "        start_time=time.time()\n",
    "        for i in range(n_it):\n",
    "            names=['alpha','beta']\n",
    "            nature=['computer','computer']\n",
    "            levels=[20,21]\n",
    "            winner=skyjo_game(names,nature,levels,0,True,False,level20_open_variable=level20_open_variable,level21_open_variable=level21_open_variable,level20_discard_variable=level20_discard_variable,level21_discard_variable=level21_discard_variable,level20_value_variable=level20_value_variable,level21_value_variable=level21_value_variable)\n",
    "            if winner[0]==1:\n",
    "                win20+=1\n",
    "        results[38,j]=n_it\n",
    "        results[39,j]=win20\n",
    "        stop_time=time.time()\n",
    "        print(f\"{n_it} games need {np.round(stop_time-start_time,3)} seconds\")\n",
    "        print(f\"level 20 won to {np.round(win20*100/n_it,1)} %\")\n",
    "    return results     "
   ]
  },
  {
   "cell_type": "code",
   "execution_count": null,
   "id": "0f93d42b",
   "metadata": {},
   "outputs": [
    {
     "name": "stdout",
     "output_type": "stream",
     "text": [
      "doing case 0\n",
      "[0.05 0.   0.   0.   0.   0.  ] [0. 0. 0. 0. 0. 0.] [0. 0. 0. 0. 0. 0. 0.]\n",
      "400 games need 20.04 seconds\n",
      "level 20 won to 62.0 %\n",
      "doing case 1\n",
      "[0.   0.05 0.   0.   0.   0.  ] [0. 0. 0. 0. 0. 0.] [0. 0. 0. 0. 0. 0. 0.]\n",
      "400 games need 21.75 seconds\n",
      "level 20 won to 65.2 %\n",
      "doing case 2\n",
      "[0.   0.   0.05 0.   0.   0.  ] [0. 0. 0. 0. 0. 0.] [0. 0. 0. 0. 0. 0. 0.]\n",
      "400 games need 23.911 seconds\n",
      "level 20 won to 57.8 %\n",
      "doing case 3\n",
      "[0.   0.   0.   0.05 0.   0.  ] [0. 0. 0. 0. 0. 0.] [0. 0. 0. 0. 0. 0. 0.]\n",
      "400 games need 25.4 seconds\n",
      "level 20 won to 64.5 %\n",
      "doing case 4\n",
      "[0.   0.   0.   0.   0.05 0.  ] [0. 0. 0. 0. 0. 0.] [0. 0. 0. 0. 0. 0. 0.]\n",
      "400 games need 25.037 seconds\n",
      "level 20 won to 58.2 %\n",
      "doing case 5\n",
      "[0.   0.   0.   0.   0.   0.05] [0. 0. 0. 0. 0. 0.] [0. 0. 0. 0. 0. 0. 0.]\n",
      "400 games need 24.431 seconds\n",
      "level 20 won to 57.5 %\n",
      "doing case 6\n",
      "[0. 0. 0. 0. 0. 0.] [0.05 0.   0.   0.   0.   0.  ] [0. 0. 0. 0. 0. 0. 0.]\n",
      "400 games need 17.932 seconds\n",
      "level 20 won to 82.0 %\n",
      "doing case 7\n",
      "[0. 0. 0. 0. 0. 0.] [0.   0.05 0.   0.   0.   0.  ] [0. 0. 0. 0. 0. 0. 0.]\n"
     ]
    }
   ],
   "source": [
    "open_step=[0.05,0.05,0.05,0.05,0.05,0.05]\n",
    "discard_step=[0.05,0.05,0.05,0.05,0.05,0.05]\n",
    "value_step=[0.05,0.05,0.05,0.05,0.05,0.05,0.05]\n",
    "#does not recreated levls good \n",
    "result=first_gradient_step(open_step,discard_step,value_step,400)\n",
    "np.savetxt(\"gradient_level20_v5.txt\",result)"
   ]
  },
  {
   "cell_type": "markdown",
   "id": "ca08faec",
   "metadata": {},
   "source": [
    "Is now working. The win percentage changes now, see below. "
   ]
  },
  {
   "cell_type": "code",
   "execution_count": 19,
   "id": "a8ca1d1f",
   "metadata": {},
   "outputs": [
    {
     "name": "stdout",
     "output_type": "stream",
     "text": [
      "[59.25 65.5  56.5  59.   58.   61.75 86.25 67.75 86.75 83.5  81.75 86.25\n",
      " 10.75 10.25  7.25  7.5  13.   14.5  12.25]\n"
     ]
    }
   ],
   "source": [
    "print(result[39]/result[38]*100)"
   ]
  },
  {
   "cell_type": "code",
   "execution_count": null,
   "id": "e65085ad",
   "metadata": {},
   "outputs": [],
   "source": []
  },
  {
   "cell_type": "code",
   "execution_count": null,
   "id": "b00b4339",
   "metadata": {},
   "outputs": [],
   "source": []
  }
 ],
 "metadata": {
  "kernelspec": {
   "display_name": "Python 3 (ipykernel)",
   "language": "python",
   "name": "python3"
  },
  "language_info": {
   "codemirror_mode": {
    "name": "ipython",
    "version": 3
   },
   "file_extension": ".py",
   "mimetype": "text/x-python",
   "name": "python",
   "nbconvert_exporter": "python",
   "pygments_lexer": "ipython3",
   "version": "3.8.15"
  }
 },
 "nbformat": 4,
 "nbformat_minor": 5
}
