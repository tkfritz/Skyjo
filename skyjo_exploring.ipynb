{
 "cells": [
  {
   "cell_type": "code",
   "execution_count": 15,
   "id": "d5204dab",
   "metadata": {},
   "outputs": [],
   "source": [
    "import numpy as np\n",
    "import random as random\n",
    "import simpleguitk as simplegui"
   ]
  },
  {
   "cell_type": "code",
   "execution_count": 16,
   "id": "559e0211",
   "metadata": {},
   "outputs": [],
   "source": [
    "class Card:\n",
    "    def __init__(self, number):\n",
    "        self.number = number\n",
    "        #display color with dictionary\n",
    "        dict_col={-2:'blue',-1:'blue',0:'cyan',1:'green',2:'green',3:'green',4:'green',5:'yellow',6:'yellow',7:'yellow',8:'yellow',9:'red',10:'red',11:'red',12:'red'}\n",
    "        self.color = dict_col[number]\n",
    "        #open default is closed\n",
    "        self.open =False\n",
    "        self.position=[None,None]\n",
    "    def __str__(self):\n",
    "        if self.open==False:\n",
    "            return \"Card has Value \"+str(self.number)+\" and is closed.\"+ \\\n",
    "                \" Its position is at \"+str(self.position)\n",
    "        if self.open==True:\n",
    "            return \"Card has Value \"+str(self.number)+\" and is open.\"+ \\\n",
    "                \" Its position is at \"+str(self.position)\n",
    "        #set card to open\n",
    "    def set_open(self):\n",
    "        self.open=True\n",
    "        #set card to closed\n",
    "    def set_closed(self):\n",
    "        self.open=False   \n",
    "    #set position    \n",
    "    def set_position(self,posinput):\n",
    "        self.position=posinput         \n",
    "    def draw(self,canvas):\n",
    "        #self.position=list(pos)\n",
    "        card_size=[70,50]\n",
    "        corners=[[self.position],[self.position[0]+card_size[0],self.position[1]],[self.position[0]+card_size[0],self.position[1]+card_size[1]],[self.position[0],self.position[1]+card_size[1]]]\n",
    "        if self.open==False:\n",
    "            canvas.draw_polygon(corners,1,'Black','Black')\n",
    "        else:    \n",
    "            canvas.draw_polygon(corners,1,'Black','Light Gray')\n",
    "            centerb=list(self.position)\n",
    "            centerb[1]+=58\n",
    "            centerb[0]+=5\n",
    "            canvas.draw_text(self.number,centerb,50,self.color)"
   ]
  },
  {
   "cell_type": "markdown",
   "id": "017a3dfa",
   "metadata": {},
   "source": [
    "Check the class functions below. Display still needs to be added. "
   ]
  },
  {
   "cell_type": "code",
   "execution_count": 17,
   "id": "66fc22ac",
   "metadata": {},
   "outputs": [
    {
     "name": "stdout",
     "output_type": "stream",
     "text": [
      "blue\n",
      "False\n",
      "[-2.  0.]\n",
      "Card has Value -2 and is closed. Its position is at [None, None]\n",
      "Card has Value -2 and is open. Its position is at [None, None]\n",
      "Card has Value -2 and is closed. Its position is at [None, None]\n"
     ]
    }
   ],
   "source": [
    "card1=Card(-2)\n",
    "print(card1.color)\n",
    "print(card1.open)\n",
    "ar=np.zeros((2))\n",
    "#number needs to be in array Crad does not work\n",
    "#not sure whether Object Oriented is useful for speed, clearer for understandable\n",
    "ar[0]=card1.number\n",
    "ar[1]=card1.open\n",
    "print(ar)\n",
    "print(card1)\n",
    "card1.set_open()\n",
    "print(card1)\n",
    "card1.set_closed()\n",
    "print(card1)"
   ]
  },
  {
   "cell_type": "markdown",
   "id": "496f236f",
   "metadata": {},
   "source": [
    "Class which creates (lists) can be created from scratch or from another pile/set."
   ]
  },
  {
   "cell_type": "code",
   "execution_count": 18,
   "id": "f0806d0e",
   "metadata": {},
   "outputs": [],
   "source": [
    "class Pile:\n",
    "    def __init__(self,mode,take_from):\n",
    "        #create new close pile, shuffles it also \n",
    "        if mode=='create_closed':\n",
    "            #all closed when \n",
    "            self.open=False\n",
    "            #postion in gui\n",
    "            self.position=[100,10]\n",
    "            #number of cards per type\n",
    "            dict_num={-2:5,-1:10,0:15,1:10,2:10,3:10,4:10,5:10,6:10,7:10,8:10,9:10,10:10,11:10,12:10}\n",
    "            self.list_cards=[]\n",
    "            for i in range(15):\n",
    "                for j in range(dict_num[i-2]):\n",
    "                    cardin=Card(i-2)\n",
    "                    cardin.set_position(self.position)\n",
    "                    cardin.set_closed()\n",
    "                    self.list_cards.append(cardin)     \n",
    "                    self.list_cards\n",
    "            random.shuffle(self.list_cards)     \n",
    "        #create open pile from other    \n",
    "        if mode=='create_open': \n",
    "            #postion in gui\n",
    "            self.position=[300,10]            \n",
    "            self.list_cards=[]\n",
    "            self.list_cards.append(take_from.list_cards.pop(-1))\n",
    "            self.list_cards[0].set_open()\n",
    "            self.open=True\n",
    "            self.list_cards[0].set_position(self.position)            \n",
    "    def __str__(self): \n",
    "        if self.open==False:\n",
    "            return \"Pile has length of \"+str(len(self.list_cards))+\" Cards and is closed.\"+ \\\n",
    "                \" Its position is at \"+str(self.position)\n",
    "        if self.open==True:\n",
    "            return \"Pile has length of \"+str(len(self.list_cards))+\" Cards and is open.\"+ \\\n",
    "                \" Its position is at \"+str(self.position)"
   ]
  },
  {
   "cell_type": "markdown",
   "id": "c2fccde9",
   "metadata": {},
   "source": [
    "Create new pile and test that it looks right. "
   ]
  },
  {
   "cell_type": "code",
   "execution_count": 19,
   "id": "b5fea74c",
   "metadata": {},
   "outputs": [
    {
     "name": "stdout",
     "output_type": "stream",
     "text": [
      "Pile has length of 150 Cards and is closed. Its position is at [100, 10]\n",
      "Card has Value 1 and is closed. Its position is at [100, 10]\n",
      "Card has Value 5 and is closed. Its position is at [100, 10]\n",
      "Card has Value 2 and is closed. Its position is at [100, 10]\n",
      "Card has Value -2 and is closed. Its position is at [100, 10]\n",
      "Card has Value 10 and is closed. Its position is at [100, 10]\n",
      "Card has Value 4 and is closed. Its position is at [100, 10]\n",
      "Card has Value 6 and is closed. Its position is at [100, 10]\n",
      "Card has Value 4 and is closed. Its position is at [100, 10]\n",
      "Card has Value 6 and is closed. Its position is at [100, 10]\n",
      "Card has Value 5 and is closed. Its position is at [100, 10]\n",
      "Card has Value 11 and is closed. Its position is at [100, 10]\n",
      "Card has Value 0 and is closed. Its position is at [100, 10]\n",
      "Card has Value 5 and is closed. Its position is at [100, 10]\n",
      "Card has Value 12 and is closed. Its position is at [100, 10]\n",
      "Card has Value 2 and is closed. Its position is at [100, 10]\n",
      "Card has Value 4 and is closed. Its position is at [100, 10]\n",
      "Card has Value 4 and is closed. Its position is at [100, 10]\n",
      "Card has Value 5 and is closed. Its position is at [100, 10]\n",
      "Card has Value 8 and is closed. Its position is at [100, 10]\n",
      "Card has Value -2 and is closed. Its position is at [100, 10]\n",
      "Card has Value 3 and is closed. Its position is at [100, 10]\n",
      "Card has Value 9 and is closed. Its position is at [100, 10]\n",
      "Card has Value 11 and is closed. Its position is at [100, 10]\n",
      "Card has Value 9 and is closed. Its position is at [100, 10]\n",
      "Card has Value 9 and is closed. Its position is at [100, 10]\n",
      "Card has Value 12 and is closed. Its position is at [100, 10]\n",
      "Card has Value 7 and is closed. Its position is at [100, 10]\n",
      "Card has Value 2 and is closed. Its position is at [100, 10]\n",
      "Card has Value 0 and is closed. Its position is at [100, 10]\n",
      "Card has Value 6 and is closed. Its position is at [100, 10]\n",
      "Card has Value 5 and is closed. Its position is at [100, 10]\n",
      "Card has Value 4 and is closed. Its position is at [100, 10]\n",
      "Card has Value 9 and is closed. Its position is at [100, 10]\n",
      "Card has Value 9 and is closed. Its position is at [100, 10]\n",
      "Card has Value -1 and is closed. Its position is at [100, 10]\n",
      "Card has Value 12 and is closed. Its position is at [100, 10]\n",
      "Card has Value 3 and is closed. Its position is at [100, 10]\n",
      "Card has Value -2 and is closed. Its position is at [100, 10]\n",
      "Card has Value 8 and is closed. Its position is at [100, 10]\n",
      "Card has Value -1 and is closed. Its position is at [100, 10]\n",
      "Card has Value 4 and is closed. Its position is at [100, 10]\n",
      "Card has Value 10 and is closed. Its position is at [100, 10]\n",
      "Card has Value 11 and is closed. Its position is at [100, 10]\n",
      "Card has Value 7 and is closed. Its position is at [100, 10]\n",
      "Card has Value 0 and is closed. Its position is at [100, 10]\n",
      "Card has Value -1 and is closed. Its position is at [100, 10]\n",
      "Card has Value 10 and is closed. Its position is at [100, 10]\n",
      "Card has Value 0 and is closed. Its position is at [100, 10]\n",
      "Card has Value -1 and is closed. Its position is at [100, 10]\n",
      "Card has Value 11 and is closed. Its position is at [100, 10]\n",
      "Card has Value 5 and is closed. Its position is at [100, 10]\n",
      "Card has Value 6 and is closed. Its position is at [100, 10]\n",
      "Card has Value 1 and is closed. Its position is at [100, 10]\n",
      "Card has Value 9 and is closed. Its position is at [100, 10]\n",
      "Card has Value 10 and is closed. Its position is at [100, 10]\n",
      "Card has Value 5 and is closed. Its position is at [100, 10]\n",
      "Card has Value 11 and is closed. Its position is at [100, 10]\n",
      "Card has Value 12 and is closed. Its position is at [100, 10]\n",
      "Card has Value 10 and is closed. Its position is at [100, 10]\n",
      "Card has Value 0 and is closed. Its position is at [100, 10]\n",
      "Card has Value 8 and is closed. Its position is at [100, 10]\n",
      "Card has Value 0 and is closed. Its position is at [100, 10]\n",
      "Card has Value 1 and is closed. Its position is at [100, 10]\n",
      "Card has Value 0 and is closed. Its position is at [100, 10]\n",
      "Card has Value 8 and is closed. Its position is at [100, 10]\n",
      "Card has Value -2 and is closed. Its position is at [100, 10]\n",
      "Card has Value 7 and is closed. Its position is at [100, 10]\n",
      "Card has Value 10 and is closed. Its position is at [100, 10]\n",
      "Card has Value 7 and is closed. Its position is at [100, 10]\n",
      "Card has Value 4 and is closed. Its position is at [100, 10]\n",
      "Card has Value 12 and is closed. Its position is at [100, 10]\n",
      "Card has Value 3 and is closed. Its position is at [100, 10]\n",
      "Card has Value 9 and is closed. Its position is at [100, 10]\n",
      "Card has Value 2 and is closed. Its position is at [100, 10]\n",
      "Card has Value 10 and is closed. Its position is at [100, 10]\n",
      "Card has Value 8 and is closed. Its position is at [100, 10]\n",
      "Card has Value 7 and is closed. Its position is at [100, 10]\n",
      "Card has Value 10 and is closed. Its position is at [100, 10]\n",
      "Card has Value 3 and is closed. Its position is at [100, 10]\n",
      "Card has Value 12 and is closed. Its position is at [100, 10]\n",
      "Card has Value 1 and is closed. Its position is at [100, 10]\n",
      "Card has Value 10 and is closed. Its position is at [100, 10]\n",
      "Card has Value 8 and is closed. Its position is at [100, 10]\n",
      "Card has Value 2 and is closed. Its position is at [100, 10]\n",
      "Card has Value 1 and is closed. Its position is at [100, 10]\n",
      "Card has Value 3 and is closed. Its position is at [100, 10]\n",
      "Card has Value 6 and is closed. Its position is at [100, 10]\n",
      "Card has Value 9 and is closed. Its position is at [100, 10]\n",
      "Card has Value 5 and is closed. Its position is at [100, 10]\n",
      "Card has Value 3 and is closed. Its position is at [100, 10]\n",
      "Card has Value 4 and is closed. Its position is at [100, 10]\n",
      "Card has Value 5 and is closed. Its position is at [100, 10]\n",
      "Card has Value -1 and is closed. Its position is at [100, 10]\n",
      "Card has Value 7 and is closed. Its position is at [100, 10]\n",
      "Card has Value 12 and is closed. Its position is at [100, 10]\n",
      "Card has Value 1 and is closed. Its position is at [100, 10]\n",
      "Card has Value 10 and is closed. Its position is at [100, 10]\n",
      "Card has Value 4 and is closed. Its position is at [100, 10]\n",
      "Card has Value 11 and is closed. Its position is at [100, 10]\n",
      "Card has Value 0 and is closed. Its position is at [100, 10]\n",
      "Card has Value 11 and is closed. Its position is at [100, 10]\n",
      "Card has Value 1 and is closed. Its position is at [100, 10]\n",
      "Card has Value 2 and is closed. Its position is at [100, 10]\n",
      "Card has Value 1 and is closed. Its position is at [100, 10]\n",
      "Card has Value 3 and is closed. Its position is at [100, 10]\n",
      "Card has Value 11 and is closed. Its position is at [100, 10]\n",
      "Card has Value 12 and is closed. Its position is at [100, 10]\n",
      "Card has Value 7 and is closed. Its position is at [100, 10]\n",
      "Card has Value 0 and is closed. Its position is at [100, 10]\n",
      "Card has Value 2 and is closed. Its position is at [100, 10]\n",
      "Card has Value -1 and is closed. Its position is at [100, 10]\n",
      "Card has Value 5 and is closed. Its position is at [100, 10]\n",
      "Card has Value 2 and is closed. Its position is at [100, 10]\n",
      "Card has Value 3 and is closed. Its position is at [100, 10]\n",
      "Card has Value 1 and is closed. Its position is at [100, 10]\n",
      "Card has Value 11 and is closed. Its position is at [100, 10]\n",
      "Card has Value 6 and is closed. Its position is at [100, 10]\n",
      "Card has Value 3 and is closed. Its position is at [100, 10]\n",
      "Card has Value 11 and is closed. Its position is at [100, 10]\n",
      "Card has Value -1 and is closed. Its position is at [100, 10]\n",
      "Card has Value 0 and is closed. Its position is at [100, 10]\n",
      "Card has Value 8 and is closed. Its position is at [100, 10]\n",
      "Card has Value -2 and is closed. Its position is at [100, 10]\n",
      "Card has Value 3 and is closed. Its position is at [100, 10]\n",
      "Card has Value 0 and is closed. Its position is at [100, 10]\n",
      "Card has Value 6 and is closed. Its position is at [100, 10]\n",
      "Card has Value 12 and is closed. Its position is at [100, 10]\n",
      "Card has Value 6 and is closed. Its position is at [100, 10]\n",
      "Card has Value 2 and is closed. Its position is at [100, 10]\n",
      "Card has Value 6 and is closed. Its position is at [100, 10]\n",
      "Card has Value 0 and is closed. Its position is at [100, 10]\n",
      "Card has Value -1 and is closed. Its position is at [100, 10]\n",
      "Card has Value 4 and is closed. Its position is at [100, 10]\n",
      "Card has Value 12 and is closed. Its position is at [100, 10]\n",
      "Card has Value -1 and is closed. Its position is at [100, 10]\n",
      "Card has Value 6 and is closed. Its position is at [100, 10]\n",
      "Card has Value 7 and is closed. Its position is at [100, 10]\n",
      "Card has Value -1 and is closed. Its position is at [100, 10]\n",
      "Card has Value 1 and is closed. Its position is at [100, 10]\n",
      "Card has Value 8 and is closed. Its position is at [100, 10]\n",
      "Card has Value 0 and is closed. Its position is at [100, 10]\n",
      "Card has Value 0 and is closed. Its position is at [100, 10]\n",
      "Card has Value 2 and is closed. Its position is at [100, 10]\n",
      "Card has Value 8 and is closed. Its position is at [100, 10]\n",
      "Card has Value 7 and is closed. Its position is at [100, 10]\n",
      "Card has Value 9 and is closed. Its position is at [100, 10]\n",
      "Card has Value 8 and is closed. Its position is at [100, 10]\n",
      "Card has Value 9 and is closed. Its position is at [100, 10]\n",
      "Card has Value 0 and is closed. Its position is at [100, 10]\n",
      "Card has Value 7 and is closed. Its position is at [100, 10]\n"
     ]
    }
   ],
   "source": [
    "pile_closed=Pile('create_closed',False)\n",
    "print(pile_closed)\n",
    "for i in range(len(pile_closed.list_cards)):\n",
    "    print(pile_closed.list_cards[i])  "
   ]
  },
  {
   "cell_type": "markdown",
   "id": "268801ac",
   "metadata": {},
   "source": [
    "Now test make second open pile."
   ]
  },
  {
   "cell_type": "code",
   "execution_count": 20,
   "id": "8e2c8ce7",
   "metadata": {},
   "outputs": [
    {
     "name": "stdout",
     "output_type": "stream",
     "text": [
      "Pile has length of 1 Cards and is open. Its position is at [300, 10]\n",
      "1 149\n"
     ]
    }
   ],
   "source": [
    "pile_open=Pile('create_open',pile_closed)\n",
    "print(pile_open)\n",
    "print(len(pile_open.list_cards),len(pile_closed.list_cards))"
   ]
  },
  {
   "cell_type": "code",
   "execution_count": 21,
   "id": "1eba4761",
   "metadata": {},
   "outputs": [
    {
     "name": "stdout",
     "output_type": "stream",
     "text": [
      "Card has Value 7 and is open. Its position is at [300, 10]\n"
     ]
    }
   ],
   "source": [
    "for i in range(len(pile_open.list_cards)):\n",
    "    print(pile_open.list_cards[i]) "
   ]
  },
  {
   "cell_type": "markdown",
   "id": "7f66875d",
   "metadata": {},
   "source": [
    "Now I create the players clas which has the cards. The cards are aranged in a 4 rows of 3 pattern. A Card Position can be empty. "
   ]
  },
  {
   "cell_type": "code",
   "execution_count": 22,
   "id": "1ad3e167",
   "metadata": {},
   "outputs": [],
   "source": [
    "#input list of players\n",
    "#random if random cards are opened, from which pile cards are taken\n",
    "#for some purposes array better but here tried as list\n",
    "class Player:\n",
    "    def __init__(self,name,random_yes,take_from):\n",
    "        #grid positions \n",
    "        self.positionx=[0,70,140,210,0,70,140,210,0,70,140,210]\n",
    "        self.positiony=[0,0,0,0,50,50,50,50,100,100,100,100]\n",
    "        #whether cards exist\n",
    "        self.exist=[]\n",
    "        self.list_cards=[]\n",
    "        self.name=name\n",
    "        for i in range(12):\n",
    "            self.exist.append(1)\n",
    "            self.list_cards.append(take_from.list_cards.pop(-1))\n",
    "            self.list_cards[-1].set_closed()\n",
    "            pos=list([self.positionx[i],self.positiony[i]])\n",
    "            self.list_cards[-1].set_position(pos) \n",
    "        #list of shuffling and set two to open    \n",
    "        if random_yes==True:\n",
    "            rang=list(range(12))\n",
    "            random.shuffle(rang)\n",
    "            self.list_cards[rang[0]].set_open()\n",
    "            self.list_cards[rang[1]].set_open() "
   ]
  },
  {
   "cell_type": "code",
   "execution_count": 23,
   "id": "37a586ac",
   "metadata": {},
   "outputs": [],
   "source": [
    "alpha=Player(\"alpha\",True,pile_closed)\n",
    "beta=Player(\"beta\",True,pile_closed) \n",
    "gamma=Player(\"gamma\",True,pile_closed) \n",
    "delta=Player(\"delta\",True,pile_closed)\n",
    "epsilon=Player(\"epsilon\",True,pile_closed)\n",
    "zeta=Player(\"zeta\",True,pile_closed)\n",
    "eta=Player(\"eta\",True,pile_closed)\n",
    "theta=Player(\"theta\",True,pile_closed)"
   ]
  },
  {
   "cell_type": "code",
   "execution_count": 24,
   "id": "38cc9652",
   "metadata": {},
   "outputs": [
    {
     "name": "stdout",
     "output_type": "stream",
     "text": [
      "Card has Value 0 and is closed. Its position is at [0, 0]\n",
      "Card has Value 9 and is closed. Its position is at [70, 0]\n",
      "Card has Value 8 and is closed. Its position is at [140, 0]\n",
      "Card has Value 9 and is closed. Its position is at [210, 0]\n",
      "Card has Value 7 and is closed. Its position is at [0, 50]\n",
      "Card has Value 8 and is closed. Its position is at [70, 50]\n",
      "Card has Value 2 and is closed. Its position is at [140, 50]\n",
      "Card has Value 0 and is closed. Its position is at [210, 50]\n",
      "Card has Value 0 and is closed. Its position is at [0, 100]\n",
      "Card has Value 8 and is closed. Its position is at [70, 100]\n",
      "Card has Value 1 and is open. Its position is at [140, 100]\n",
      "Card has Value -1 and is open. Its position is at [210, 100]\n"
     ]
    }
   ],
   "source": [
    "for i in range(len(alpha.list_cards)):\n",
    "    print(alpha.list_cards[i])  "
   ]
  },
  {
   "cell_type": "markdown",
   "id": "d10cfa3b",
   "metadata": {},
   "source": [
    "Create list of players (need to improve later)"
   ]
  },
  {
   "cell_type": "code",
   "execution_count": 25,
   "id": "75e79916",
   "metadata": {},
   "outputs": [
    {
     "name": "stdout",
     "output_type": "stream",
     "text": [
      "[<__main__.Player object at 0x7f6f9c618790>, <__main__.Player object at 0x7f6f7c092dc0>, <__main__.Player object at 0x7f6f9c612eb0>, <__main__.Player object at 0x7f6f9d6b9460>, <__main__.Player object at 0x7f6f9c612f10>, <__main__.Player object at 0x7f6f7c0928e0>, <__main__.Player object at 0x7f6f7c092e50>, <__main__.Player object at 0x7f6f7c092c70>]\n"
     ]
    }
   ],
   "source": [
    "#different test cases\n",
    "players=[alpha,beta,gamma,delta]\n",
    "players=[alpha,beta,gamma]\n",
    "players=[alpha,beta]\n",
    "players=[alpha,beta]\n",
    "players=[alpha,beta,gamma,delta,epsilon,zeta,eta,theta]\n",
    "print(players)"
   ]
  },
  {
   "cell_type": "code",
   "execution_count": 26,
   "id": "d862f422",
   "metadata": {},
   "outputs": [],
   "source": [
    "# draw function\n",
    "def draw(canvas):\n",
    "    global pile_open,pile_closed, players\n",
    "    #display the top most card\n",
    "    p_open=pile_open.list_cards[-1]\n",
    "    p_closed=pile_closed.list_cards[-1]\n",
    "    # test to make sure that card.draw works\n",
    "    p_open.draw(canvas)\n",
    "    p_closed.draw(canvas)\n",
    "    for i in range(len(players)):\n",
    "        for j in range(12):\n",
    "            #only cards which exist are drawn:\n",
    "            if players[i].exist[j]==1:\n",
    "                card=players[i].list_cards[j]\n",
    "                if len(players)==2:\n",
    "                    drawpos=list(card.position)\n",
    "                    drawpos[0]=i*290+players[i].positionx[j]\n",
    "                    drawpos[1]=100+players[i].positiony[j]\n",
    "                    card.set_position(drawpos)\n",
    "                    card.draw(canvas)\n",
    "                    canvas.draw_text(players[i].name,(100+(i%2)*290,180*(1+(i//2))+90),15,'Black')\n",
    "                if abs(len(players)-3.5)==0.5:\n",
    "                    drawpos=list(card.position)\n",
    "                    drawpos[0]=(i%2)*290+players[i].positionx[j]\n",
    "                    drawpos[1]=180*(i//2)+100+players[i].positiony[j]\n",
    "                    card.set_position(drawpos)\n",
    "                    card.draw(canvas)\n",
    "                    canvas.draw_text(players[i].name,(100+(i%2)*290,180*(1+(i//2))+90),15,'Black')\n",
    "                if abs(len(players)-5.5)==0.5:\n",
    "                    drawpos=list(card.position)\n",
    "                    drawpos[0]=(i%3)*290+players[i].positionx[j]\n",
    "                    drawpos[1]=180*(i//3)+100+players[i].positiony[j]\n",
    "                    card.set_position(drawpos)\n",
    "                    card.draw(canvas)\n",
    "                    canvas.draw_text(players[i].name,(100+(i%3)*290,180*(1+(i//3))+90),15,'Black')     \n",
    "                if abs(len(players)-7.5)==0.5:\n",
    "                    drawpos=list(card.position)\n",
    "                    drawpos[0]=(i%4)*290+players[i].positionx[j]\n",
    "                    drawpos[1]=180*(i//4)+100+players[i].positiony[j]\n",
    "                    card.set_position(drawpos)\n",
    "                    card.draw(canvas)\n",
    "                    canvas.draw_text(players[i].name,(100+(i%4)*290,180*(1+(i//4))+90),15,'Black')    "
   ]
  },
  {
   "cell_type": "markdown",
   "id": "f527c6ca",
   "metadata": {},
   "source": [
    "Drawing works now for all allowed player numbers. "
   ]
  },
  {
   "cell_type": "code",
   "execution_count": 28,
   "id": "490174d8",
   "metadata": {},
   "outputs": [
    {
     "ename": "SystemExit",
     "evalue": "0",
     "output_type": "error",
     "traceback": [
      "An exception has occurred, use %tb to see the full traceback.\n",
      "\u001b[0;31mSystemExit\u001b[0m\u001b[0;31m:\u001b[0m 0\n"
     ]
    }
   ],
   "source": [
    "#seems not work well in the notebook sometimes, not clear whether real problem\n",
    "if len(players)==2:\n",
    "    frame = simplegui.create_frame(\"Skyjo\", 290+280*(1), 100+3*50+30) \n",
    "if abs(len(players)-3.5)==0.5:\n",
    "    frame = simplegui.create_frame(\"Skyjo\", 290+280*(1), 100+3*50*2+60)\n",
    "if abs(len(players)-5.5)==0.5:\n",
    "    frame = simplegui.create_frame(\"Skyjo\", 290+280*(2)+10, 100+3*50*2+60)    \n",
    "if abs(len(players)-7.5)==0.5:\n",
    "    frame = simplegui.create_frame(\"Skyjo\", 290+280*(3)+20, 100+3*50*2+60)  \n",
    "frame.set_canvas_background(\"White\")\n",
    "frame.set_draw_handler(draw)\n",
    "frame.start()       "
   ]
  },
  {
   "cell_type": "code",
   "execution_count": null,
   "id": "3df219c8",
   "metadata": {},
   "outputs": [],
   "source": [
    "exit()\n"
   ]
  },
  {
   "cell_type": "code",
   "execution_count": null,
   "id": "40a0907f",
   "metadata": {},
   "outputs": [],
   "source": []
  }
 ],
 "metadata": {
  "kernelspec": {
   "display_name": "Python 3 (ipykernel)",
   "language": "python",
   "name": "python3"
  },
  "language_info": {
   "codemirror_mode": {
    "name": "ipython",
    "version": 3
   },
   "file_extension": ".py",
   "mimetype": "text/x-python",
   "name": "python",
   "nbconvert_exporter": "python",
   "pygments_lexer": "ipython3",
   "version": "3.8.15"
  }
 },
 "nbformat": 4,
 "nbformat_minor": 5
}
