{
 "cells": [
  {
   "cell_type": "code",
   "execution_count": 1,
   "id": "d5204dab",
   "metadata": {},
   "outputs": [],
   "source": [
    "import numpy as np\n",
    "import random as random\n",
    "import simpleguitk as simplegui"
   ]
  },
  {
   "cell_type": "code",
   "execution_count": 113,
   "id": "559e0211",
   "metadata": {},
   "outputs": [],
   "source": [
    "class Card:\n",
    "    def __init__(self, number):\n",
    "        self.number = number\n",
    "        #display color with dictionary\n",
    "        dict_col={-2:'blue',-1:'blue',0:'cyan',1:'green',2:'green',3:'green',4:'green',5:'yellow',6:'yellow',7:'yellow',8:'yellow',9:'red',10:'red',11:'red',12:'red'}\n",
    "        self.color = dict_col[number]\n",
    "        #open default is closed\n",
    "        self.open =False\n",
    "        self.position=[None,None]\n",
    "    def __str__(self):\n",
    "        if self.open==False:\n",
    "            return \"Card has Value \"+str(self.number)+\" and is closed.\"+ \\\n",
    "                \" Its position is at \"+str(self.position)\n",
    "        if self.open==True:\n",
    "            return \"Card has Value \"+str(self.number)+\" and is open.\"+ \\\n",
    "                \" Its position is at \"+str(self.position)\n",
    "        #set card to open\n",
    "    def set_state(self,state):\n",
    "        self.open=state\n",
    "        #set card to closed \n",
    "    #set position    \n",
    "    def set_position(self,posinput):\n",
    "        self.position=posinput         \n",
    "    def draw(self,canvas):\n",
    "        #self.position=list(pos)\n",
    "        card_size=[70,50]\n",
    "        corners=[[self.position],[self.position[0]+card_size[0],self.position[1]],[self.position[0]+card_size[0],self.position[1]+card_size[1]],[self.position[0],self.position[1]+card_size[1]]]\n",
    "        if self.open==False:\n",
    "            canvas.draw_polygon(corners,1,'Black','Black')\n",
    "        else:    \n",
    "            canvas.draw_polygon(corners,1,'Black','Light Gray')\n",
    "            centerb=list(self.position)\n",
    "            centerb[1]+=58\n",
    "            centerb[0]+=5\n",
    "            canvas.draw_text(self.number,centerb,50,self.color)"
   ]
  },
  {
   "cell_type": "markdown",
   "id": "017a3dfa",
   "metadata": {},
   "source": [
    "Check the class functions below. Display still needs to be added. "
   ]
  },
  {
   "cell_type": "code",
   "execution_count": 114,
   "id": "66fc22ac",
   "metadata": {},
   "outputs": [
    {
     "name": "stdout",
     "output_type": "stream",
     "text": [
      "blue\n",
      "False\n",
      "[-2.  0.]\n",
      "Card has Value -2 and is closed. Its position is at [None, None]\n",
      "Card has Value -2 and is open. Its position is at [None, None]\n",
      "Card has Value -2 and is closed. Its position is at [None, None]\n"
     ]
    }
   ],
   "source": [
    "card1=Card(-2)\n",
    "print(card1.color)\n",
    "print(card1.open)\n",
    "ar=np.zeros((2))\n",
    "#number needs to be in array Crad does not work\n",
    "#not sure whether Object Oriented is useful for speed, clearer for understandable\n",
    "ar[0]=card1.number\n",
    "ar[1]=card1.open\n",
    "print(ar)\n",
    "print(card1)\n",
    "card1.set_state(True)\n",
    "print(card1)\n",
    "card1.set_state(False)\n",
    "print(card1)"
   ]
  },
  {
   "cell_type": "markdown",
   "id": "496f236f",
   "metadata": {},
   "source": [
    "Class which creates (lists) can be created from scratch or from another pile/set."
   ]
  },
  {
   "cell_type": "code",
   "execution_count": 124,
   "id": "f0806d0e",
   "metadata": {},
   "outputs": [],
   "source": [
    "class Pile:\n",
    "    def __init__(self,mode,take_from):\n",
    "        #create new close pile, shuffles it also \n",
    "        if mode=='create_closed':\n",
    "            #all closed when \n",
    "            self.open=False\n",
    "            #postion in gui\n",
    "            self.position=[100,10]\n",
    "            #number of cards per type\n",
    "            dict_num={-2:5,-1:10,0:15,1:10,2:10,3:10,4:10,5:10,6:10,7:10,8:10,9:10,10:10,11:10,12:10}\n",
    "            self.list_cards=[]\n",
    "            for i in range(15):\n",
    "                for j in range(dict_num[i-2]):\n",
    "                    cardin=Card(i-2)\n",
    "                    cardin.set_position(self.position)\n",
    "                    cardin.set_state(False)\n",
    "                    self.list_cards.append(cardin)     \n",
    "                    self.list_cards\n",
    "            random.shuffle(self.list_cards)     \n",
    "        #create open pile from other    \n",
    "        if mode=='create_open': \n",
    "            #postion in gui\n",
    "            self.position=[300,10]            \n",
    "            self.list_cards=[]\n",
    "            self.list_cards.append(take_from.list_cards.pop(-1))\n",
    "            self.list_cards[0].set_state(True)\n",
    "            self.open=True\n",
    "            self.list_cards[0].set_position(self.position)            \n",
    "    def __str__(self): \n",
    "        if self.open==False:\n",
    "            return \"Pile has length of \"+str(len(self.list_cards))+\" Cards and is closed.\"+ \\\n",
    "                \" Its position is at \"+str(self.position)\n",
    "        if self.open==True:\n",
    "            return \"Pile has length of \"+str(len(self.list_cards))+\" Cards and is open.\"+ \\\n",
    "                \" Its position is at \"+str(self.position)\n",
    "    #functions needed, recreate pile if nearly empty\n",
    "    #giving (always top most card) and getting cards\n",
    "    def give_card(self):\n",
    "        card=self.list_cards.pop(-1)\n",
    "        return card\n",
    "    def get_card(self,card):\n",
    "        self.list_cards.append(card)\n",
    "        #set to position and state of pile\n",
    "        self.list_cards[-1].set_position(self.position)\n",
    "        self.list_cards[-1].set_state(self.open)"
   ]
  },
  {
   "cell_type": "markdown",
   "id": "c2fccde9",
   "metadata": {},
   "source": [
    "Create new pile and test that it looks right. "
   ]
  },
  {
   "cell_type": "code",
   "execution_count": 125,
   "id": "b5fea74c",
   "metadata": {},
   "outputs": [
    {
     "name": "stdout",
     "output_type": "stream",
     "text": [
      "Pile has length of 150 Cards and is closed. Its position is at [100, 10]\n",
      "Card has Value 11 and is closed. Its position is at [100, 10]\n",
      "Card has Value 5 and is closed. Its position is at [100, 10]\n",
      "Card has Value 4 and is closed. Its position is at [100, 10]\n",
      "Card has Value 2 and is closed. Its position is at [100, 10]\n",
      "Card has Value -1 and is closed. Its position is at [100, 10]\n",
      "Card has Value 11 and is closed. Its position is at [100, 10]\n",
      "Card has Value 10 and is closed. Its position is at [100, 10]\n",
      "Card has Value 3 and is closed. Its position is at [100, 10]\n",
      "Card has Value 0 and is closed. Its position is at [100, 10]\n",
      "Card has Value 10 and is closed. Its position is at [100, 10]\n",
      "Card has Value 0 and is closed. Its position is at [100, 10]\n",
      "Card has Value 7 and is closed. Its position is at [100, 10]\n",
      "Card has Value 12 and is closed. Its position is at [100, 10]\n",
      "Card has Value 7 and is closed. Its position is at [100, 10]\n",
      "Card has Value -2 and is closed. Its position is at [100, 10]\n",
      "Card has Value 7 and is closed. Its position is at [100, 10]\n",
      "Card has Value 6 and is closed. Its position is at [100, 10]\n",
      "Card has Value 3 and is closed. Its position is at [100, 10]\n",
      "Card has Value 3 and is closed. Its position is at [100, 10]\n",
      "Card has Value 11 and is closed. Its position is at [100, 10]\n",
      "Card has Value 7 and is closed. Its position is at [100, 10]\n",
      "Card has Value 1 and is closed. Its position is at [100, 10]\n",
      "Card has Value 12 and is closed. Its position is at [100, 10]\n",
      "Card has Value 1 and is closed. Its position is at [100, 10]\n",
      "Card has Value 6 and is closed. Its position is at [100, 10]\n",
      "Card has Value 1 and is closed. Its position is at [100, 10]\n",
      "Card has Value 12 and is closed. Its position is at [100, 10]\n",
      "Card has Value 12 and is closed. Its position is at [100, 10]\n",
      "Card has Value 4 and is closed. Its position is at [100, 10]\n",
      "Card has Value 11 and is closed. Its position is at [100, 10]\n",
      "Card has Value 5 and is closed. Its position is at [100, 10]\n",
      "Card has Value 9 and is closed. Its position is at [100, 10]\n",
      "Card has Value 6 and is closed. Its position is at [100, 10]\n",
      "Card has Value 5 and is closed. Its position is at [100, 10]\n",
      "Card has Value 10 and is closed. Its position is at [100, 10]\n",
      "Card has Value 7 and is closed. Its position is at [100, 10]\n",
      "Card has Value 5 and is closed. Its position is at [100, 10]\n",
      "Card has Value 4 and is closed. Its position is at [100, 10]\n",
      "Card has Value 5 and is closed. Its position is at [100, 10]\n",
      "Card has Value 2 and is closed. Its position is at [100, 10]\n",
      "Card has Value 9 and is closed. Its position is at [100, 10]\n",
      "Card has Value 0 and is closed. Its position is at [100, 10]\n",
      "Card has Value 12 and is closed. Its position is at [100, 10]\n",
      "Card has Value 1 and is closed. Its position is at [100, 10]\n",
      "Card has Value 6 and is closed. Its position is at [100, 10]\n",
      "Card has Value 9 and is closed. Its position is at [100, 10]\n",
      "Card has Value 11 and is closed. Its position is at [100, 10]\n",
      "Card has Value 12 and is closed. Its position is at [100, 10]\n",
      "Card has Value 5 and is closed. Its position is at [100, 10]\n",
      "Card has Value 7 and is closed. Its position is at [100, 10]\n",
      "Card has Value 8 and is closed. Its position is at [100, 10]\n",
      "Card has Value 0 and is closed. Its position is at [100, 10]\n",
      "Card has Value 2 and is closed. Its position is at [100, 10]\n",
      "Card has Value 11 and is closed. Its position is at [100, 10]\n",
      "Card has Value 12 and is closed. Its position is at [100, 10]\n",
      "Card has Value -1 and is closed. Its position is at [100, 10]\n",
      "Card has Value 1 and is closed. Its position is at [100, 10]\n",
      "Card has Value 8 and is closed. Its position is at [100, 10]\n",
      "Card has Value 11 and is closed. Its position is at [100, 10]\n",
      "Card has Value 11 and is closed. Its position is at [100, 10]\n",
      "Card has Value -2 and is closed. Its position is at [100, 10]\n",
      "Card has Value 8 and is closed. Its position is at [100, 10]\n",
      "Card has Value 11 and is closed. Its position is at [100, 10]\n",
      "Card has Value 5 and is closed. Its position is at [100, 10]\n",
      "Card has Value 6 and is closed. Its position is at [100, 10]\n",
      "Card has Value 2 and is closed. Its position is at [100, 10]\n",
      "Card has Value -2 and is closed. Its position is at [100, 10]\n",
      "Card has Value 12 and is closed. Its position is at [100, 10]\n",
      "Card has Value 9 and is closed. Its position is at [100, 10]\n",
      "Card has Value 10 and is closed. Its position is at [100, 10]\n",
      "Card has Value 0 and is closed. Its position is at [100, 10]\n",
      "Card has Value 8 and is closed. Its position is at [100, 10]\n",
      "Card has Value 8 and is closed. Its position is at [100, 10]\n",
      "Card has Value -1 and is closed. Its position is at [100, 10]\n",
      "Card has Value 2 and is closed. Its position is at [100, 10]\n",
      "Card has Value 8 and is closed. Its position is at [100, 10]\n",
      "Card has Value -1 and is closed. Its position is at [100, 10]\n",
      "Card has Value 1 and is closed. Its position is at [100, 10]\n",
      "Card has Value 12 and is closed. Its position is at [100, 10]\n",
      "Card has Value 4 and is closed. Its position is at [100, 10]\n",
      "Card has Value 9 and is closed. Its position is at [100, 10]\n",
      "Card has Value 0 and is closed. Its position is at [100, 10]\n",
      "Card has Value 0 and is closed. Its position is at [100, 10]\n",
      "Card has Value 5 and is closed. Its position is at [100, 10]\n",
      "Card has Value 0 and is closed. Its position is at [100, 10]\n",
      "Card has Value 0 and is closed. Its position is at [100, 10]\n",
      "Card has Value 9 and is closed. Its position is at [100, 10]\n",
      "Card has Value -1 and is closed. Its position is at [100, 10]\n",
      "Card has Value -1 and is closed. Its position is at [100, 10]\n",
      "Card has Value 3 and is closed. Its position is at [100, 10]\n",
      "Card has Value -1 and is closed. Its position is at [100, 10]\n",
      "Card has Value 0 and is closed. Its position is at [100, 10]\n",
      "Card has Value 10 and is closed. Its position is at [100, 10]\n",
      "Card has Value 4 and is closed. Its position is at [100, 10]\n",
      "Card has Value 6 and is closed. Its position is at [100, 10]\n",
      "Card has Value 5 and is closed. Its position is at [100, 10]\n",
      "Card has Value 7 and is closed. Its position is at [100, 10]\n",
      "Card has Value 4 and is closed. Its position is at [100, 10]\n",
      "Card has Value -2 and is closed. Its position is at [100, 10]\n",
      "Card has Value 0 and is closed. Its position is at [100, 10]\n",
      "Card has Value 0 and is closed. Its position is at [100, 10]\n",
      "Card has Value 8 and is closed. Its position is at [100, 10]\n",
      "Card has Value 2 and is closed. Its position is at [100, 10]\n",
      "Card has Value 1 and is closed. Its position is at [100, 10]\n",
      "Card has Value 9 and is closed. Its position is at [100, 10]\n",
      "Card has Value 10 and is closed. Its position is at [100, 10]\n",
      "Card has Value -1 and is closed. Its position is at [100, 10]\n",
      "Card has Value 3 and is closed. Its position is at [100, 10]\n",
      "Card has Value 3 and is closed. Its position is at [100, 10]\n",
      "Card has Value 3 and is closed. Its position is at [100, 10]\n",
      "Card has Value 2 and is closed. Its position is at [100, 10]\n",
      "Card has Value 7 and is closed. Its position is at [100, 10]\n",
      "Card has Value 2 and is closed. Its position is at [100, 10]\n",
      "Card has Value -2 and is closed. Its position is at [100, 10]\n",
      "Card has Value 0 and is closed. Its position is at [100, 10]\n",
      "Card has Value 10 and is closed. Its position is at [100, 10]\n",
      "Card has Value 10 and is closed. Its position is at [100, 10]\n",
      "Card has Value 7 and is closed. Its position is at [100, 10]\n",
      "Card has Value 9 and is closed. Its position is at [100, 10]\n",
      "Card has Value 6 and is closed. Its position is at [100, 10]\n",
      "Card has Value 1 and is closed. Its position is at [100, 10]\n",
      "Card has Value -1 and is closed. Its position is at [100, 10]\n",
      "Card has Value 9 and is closed. Its position is at [100, 10]\n",
      "Card has Value 1 and is closed. Its position is at [100, 10]\n",
      "Card has Value 1 and is closed. Its position is at [100, 10]\n",
      "Card has Value 2 and is closed. Its position is at [100, 10]\n",
      "Card has Value 6 and is closed. Its position is at [100, 10]\n",
      "Card has Value 4 and is closed. Its position is at [100, 10]\n",
      "Card has Value 8 and is closed. Its position is at [100, 10]\n",
      "Card has Value 0 and is closed. Its position is at [100, 10]\n",
      "Card has Value 9 and is closed. Its position is at [100, 10]\n",
      "Card has Value 4 and is closed. Its position is at [100, 10]\n",
      "Card has Value 10 and is closed. Its position is at [100, 10]\n",
      "Card has Value 3 and is closed. Its position is at [100, 10]\n",
      "Card has Value 4 and is closed. Its position is at [100, 10]\n",
      "Card has Value 10 and is closed. Its position is at [100, 10]\n",
      "Card has Value 3 and is closed. Its position is at [100, 10]\n",
      "Card has Value 6 and is closed. Its position is at [100, 10]\n",
      "Card has Value 4 and is closed. Its position is at [100, 10]\n",
      "Card has Value 8 and is closed. Its position is at [100, 10]\n",
      "Card has Value 5 and is closed. Its position is at [100, 10]\n",
      "Card has Value -1 and is closed. Its position is at [100, 10]\n",
      "Card has Value 7 and is closed. Its position is at [100, 10]\n",
      "Card has Value 0 and is closed. Its position is at [100, 10]\n",
      "Card has Value 2 and is closed. Its position is at [100, 10]\n",
      "Card has Value 12 and is closed. Its position is at [100, 10]\n",
      "Card has Value 8 and is closed. Its position is at [100, 10]\n",
      "Card has Value 6 and is closed. Its position is at [100, 10]\n",
      "Card has Value 3 and is closed. Its position is at [100, 10]\n",
      "Card has Value 11 and is closed. Its position is at [100, 10]\n"
     ]
    }
   ],
   "source": [
    "pile_closed=Pile('create_closed',False)\n",
    "print(pile_closed)\n",
    "for i in range(len(pile_closed.list_cards)):\n",
    "    print(pile_closed.list_cards[i])  "
   ]
  },
  {
   "cell_type": "markdown",
   "id": "268801ac",
   "metadata": {},
   "source": [
    "Now test make second open pile."
   ]
  },
  {
   "cell_type": "code",
   "execution_count": 126,
   "id": "8e2c8ce7",
   "metadata": {},
   "outputs": [
    {
     "name": "stdout",
     "output_type": "stream",
     "text": [
      "Pile has length of 1 Cards and is open. Its position is at [300, 10]\n",
      "1 149\n"
     ]
    }
   ],
   "source": [
    "pile_open=Pile('create_open',pile_closed)\n",
    "print(pile_open)\n",
    "print(len(pile_open.list_cards),len(pile_closed.list_cards))"
   ]
  },
  {
   "cell_type": "code",
   "execution_count": 127,
   "id": "1eba4761",
   "metadata": {},
   "outputs": [
    {
     "name": "stdout",
     "output_type": "stream",
     "text": [
      "Card has Value 11 and is open. Its position is at [300, 10]\n"
     ]
    }
   ],
   "source": [
    "for i in range(len(pile_open.list_cards)):\n",
    "    print(pile_open.list_cards[i]) "
   ]
  },
  {
   "cell_type": "code",
   "execution_count": 128,
   "id": "7b861119",
   "metadata": {},
   "outputs": [
    {
     "name": "stdout",
     "output_type": "stream",
     "text": [
      "Card has Value 3 and is closed. Its position is at [100, 10]\n",
      "148\n",
      "Card has Value 6 and is closed. Its position is at [100, 10]\n",
      "2 Card has Value 3 and is open. Its position is at [300, 10]\n"
     ]
    }
   ],
   "source": [
    "#testing of giving and getting cards\n",
    "card_a=pile_closed.give_card()\n",
    "print(card_a)\n",
    "print(len(pile_closed.list_cards))\n",
    "print(pile_closed.list_cards[-1])\n",
    "pile_open.get_card(card_a)\n",
    "print(len(pile_open.list_cards),pile_open.list_cards[-1])\n",
    "#works. But need to get to player also "
   ]
  },
  {
   "cell_type": "code",
   "execution_count": 129,
   "id": "37fccfda",
   "metadata": {},
   "outputs": [],
   "source": [
    "#recreate piles to start from normal length\n",
    "pile_closed=Pile('create_closed',False)\n",
    "pile_open=Pile('create_open',pile_closed)"
   ]
  },
  {
   "cell_type": "markdown",
   "id": "7f66875d",
   "metadata": {},
   "source": [
    "Now I create the players clas which has the cards. The cards are aranged in a 4 rows of 3 pattern. A Card Position can be empty. "
   ]
  },
  {
   "cell_type": "code",
   "execution_count": 131,
   "id": "1ad3e167",
   "metadata": {},
   "outputs": [],
   "source": [
    "#input list of players\n",
    "#random if random cards are opened, from which pile cards are taken\n",
    "#for some purposes array better but here tried as list\n",
    "class Player:\n",
    "    def __init__(self,name,mode,random_yes,take_from):\n",
    "        #grid positions \n",
    "        self.positionx=[0,70,140,210,0,70,140,210,0,70,140,210]\n",
    "        self.positiony=[0,0,0,0,50,50,50,50,100,100,100,100]\n",
    "        #whether cards exist\n",
    "        self.exist=[]\n",
    "        self.list_cards=[]\n",
    "        self.name=name\n",
    "        #check mode computer (different levels)/human\n",
    "        if mode=='computer_level_0':\n",
    "            self.mode='computer_level_0'\n",
    "        if mode=='human':\n",
    "            self.mode='human'\n",
    "            \n",
    "        for i in range(12):\n",
    "            self.exist.append(1)\n",
    "            self.list_cards.append(take_from.list_cards.pop(-1))\n",
    "            self.list_cards[-1].set_state(False)\n",
    "            pos=list([self.positionx[i],self.positiony[i]])\n",
    "            self.list_cards[-1].set_position(pos) \n",
    "        #list for shuffling and set two to open \n",
    "        if random_yes==True:\n",
    "            rang=list(range(12))\n",
    "            random.shuffle(rang)\n",
    "            self.list_cards[rang[0]].set_state(True)\n",
    "            self.list_cards[rang[1]].set_state(True)\n",
    "        #option for player to do that interactive to be added     \n",
    "    def __str__(self):\n",
    "        return \"Player \"+self.name+\" is a \"+self.mode\n",
    "    def give_card(self,i):\n",
    "        card=self.list_cards[i]\n",
    "        self.exist[i]=0\n",
    "        self.list_cards[i]=None\n",
    "        return card\n",
    "    #is always open then is at certain position changed \n",
    "    def get_card(self,card,i):\n",
    "        self.list_cards[i]=card\n",
    "        #set to position and to open and to existing\n",
    "        self.exist[i]=1\n",
    "        pos=list([self.positionx[i],self.positiony[i]])\n",
    "        self.list_cards[i].set_position(pos)\n",
    "        self.list_cards[i].set_state(True)"
   ]
  },
  {
   "cell_type": "code",
   "execution_count": 132,
   "id": "37a586ac",
   "metadata": {},
   "outputs": [],
   "source": [
    "alpha=Player(\"alpha\",'computer_level_0',True,pile_closed)\n",
    "beta=Player(\"beta\",'computer_level_0',True,pile_closed) \n",
    "#gamma=Player(\"gamma\",True,pile_closed) \n",
    "#delta=Player(\"delta\",True,pile_closed)\n",
    "#epsilon=Player(\"epsilon\",True,pile_closed)\n",
    "#zeta=Player(\"zeta\",True,pile_closed)\n",
    "#eta=Player(\"eta\",True,pile_closed)\n",
    "#theta=Player(\"theta\",True,pile_closed)"
   ]
  },
  {
   "cell_type": "code",
   "execution_count": 134,
   "id": "38cc9652",
   "metadata": {},
   "outputs": [
    {
     "name": "stdout",
     "output_type": "stream",
     "text": [
      " 0 Card has Value 6 and is closed. Its position is at [0, 0]\n",
      " 1 Card has Value 3 and is open. Its position is at [70, 0]\n",
      " 2 Card has Value 2 and is closed. Its position is at [140, 0]\n",
      " 3 Card has Value 6 and is closed. Its position is at [210, 0]\n",
      " 4 Card has Value 12 and is closed. Its position is at [0, 50]\n",
      " 5 Card has Value 10 and is closed. Its position is at [70, 50]\n",
      " 6 Card has Value 9 and is closed. Its position is at [140, 50]\n",
      " 7 Card has Value 5 and is closed. Its position is at [210, 50]\n",
      " 8 Card has Value 9 and is closed. Its position is at [0, 100]\n",
      " 9 Card has Value 12 and is closed. Its position is at [70, 100]\n",
      " 10 Card has Value 6 and is closed. Its position is at [140, 100]\n",
      " 11 Card has Value 6 and is open. Its position is at [210, 100]\n"
     ]
    }
   ],
   "source": [
    "for i in range(len(alpha.list_cards)):\n",
    "    print(f\" {i} {alpha.list_cards[i]}\")  "
   ]
  },
  {
   "cell_type": "code",
   "execution_count": 145,
   "id": "e0b293cd",
   "metadata": {},
   "outputs": [
    {
     "name": "stdout",
     "output_type": "stream",
     "text": [
      " 1 Card has Value 5 and is open. Its position is at [70, 0]\n",
      "Card has Value 5 and is open. Its position is at [70, 0]\n",
      " 1 None\n",
      "Card has Value 2 and is open. Its position is at [300, 10]\n",
      "Card has Value 5 and is open. Its position is at [300, 10]\n"
     ]
    }
   ],
   "source": [
    "#take giving and taking cards\n",
    "print(f\" {1} {alpha.list_cards[1]}\")\n",
    "card_a=alpha.give_card(1)\n",
    "print(card_a)\n",
    "print(f\" {1} {alpha.list_cards[1]}\")\n",
    "print(pile_open.list_cards[-1])      \n",
    "pile_open.get_card(card_a)      \n",
    "print(pile_open.list_cards[-1])  "
   ]
  },
  {
   "cell_type": "code",
   "execution_count": 142,
   "id": "ad175971",
   "metadata": {},
   "outputs": [
    {
     "name": "stdout",
     "output_type": "stream",
     "text": [
      "Card has Value 5 and is closed. Its position is at [100, 10]\n",
      " 1 Card has Value 5 and is open. Its position is at [70, 0]\n",
      "119\n",
      "Card has Value 10 and is closed. Its position is at [100, 10]\n"
     ]
    }
   ],
   "source": [
    "print(pile_closed.list_cards[-1])\n",
    "card_b=pile_closed.give_card()\n",
    "alpha.get_card(card_b,1)\n",
    "print(f\" {1} {alpha.list_cards[1]}\") \n",
    "print(len(pile_closed.list_cards))    \n",
    "print(pile_closed.list_cards[-1]) "
   ]
  },
  {
   "cell_type": "markdown",
   "id": "5b0ea445",
   "metadata": {},
   "source": [
    "Exchanging cards (vanishing also means only one step fore a player).\n",
    "\n",
    "Create all again to start from start state."
   ]
  },
  {
   "cell_type": "code",
   "execution_count": 146,
   "id": "b6faf664",
   "metadata": {},
   "outputs": [],
   "source": [
    "pile_closed=Pile('create_closed',False)\n",
    "pile_open=Pile('create_open',pile_closed)\n",
    "alpha=Player(\"alpha\",'computer_level_0',True,pile_closed)\n",
    "beta=Player(\"beta\",'computer_level_0',True,pile_closed) "
   ]
  },
  {
   "cell_type": "markdown",
   "id": "d10cfa3b",
   "metadata": {},
   "source": [
    "Create list of players. Vary number for testing different cases."
   ]
  },
  {
   "cell_type": "code",
   "execution_count": 147,
   "id": "75e79916",
   "metadata": {},
   "outputs": [
    {
     "name": "stdout",
     "output_type": "stream",
     "text": [
      "[<__main__.Player object at 0x7f28cef72160>, <__main__.Player object at 0x7f28ce86b0d0>]\n",
      "Player alpha is a computer_level_0\n",
      "Player beta is a computer_level_0\n"
     ]
    }
   ],
   "source": [
    "#different test cases\n",
    "#players=[alpha,beta,gamma,delta]\n",
    "#players=[alpha,beta,gamma]\n",
    "players=[alpha,beta]\n",
    "#players=[alpha,beta,gamma,delta,epsilon,zeta,eta,theta]\n",
    "#need better print function\n",
    "print(players)\n",
    "for i in range(len(players)):\n",
    "    print(players[i])"
   ]
  },
  {
   "cell_type": "markdown",
   "id": "f8f5ad0c",
   "metadata": {},
   "source": [
    "Function to determine which player starts."
   ]
  },
  {
   "cell_type": "code",
   "execution_count": 156,
   "id": "3fcf6310",
   "metadata": {},
   "outputs": [],
   "source": [
    "#parameters, whether is first round of game, player_list, last_ended (which means last action of previous game)\n",
    "def who_starts(first,players,last_ender):\n",
    "    #if first round of a game largest one starts\n",
    "    if first==True:\n",
    "        #first is default \n",
    "        starter=players[0]\n",
    "        for i in range(len(players)):\n",
    "            counter=0\n",
    "            for j in range(12):\n",
    "                #when card exists\n",
    "                if players[i].exist[j]==1:\n",
    "                    #if card open\n",
    "                    if players[i].list_cards[j].open==1:\n",
    "                        counter+=players[i].list_cards[j].number\n",
    "            if i==0:\n",
    "                lowcounter=counter\n",
    "            if i>0 and counter>lowcounter:\n",
    "                starter=players[i]\n",
    "        print(\"Player \"+str(starter.name)+\" starts\")        \n",
    "        return starter  \n",
    "    else:\n",
    "        print(\"Player \"+str(last_ender.name)+\" starts\") \n",
    "        return last_ender                    "
   ]
  },
  {
   "cell_type": "code",
   "execution_count": 157,
   "id": "96895fa5",
   "metadata": {},
   "outputs": [
    {
     "name": "stdout",
     "output_type": "stream",
     "text": [
      "Player beta starts\n",
      "Player beta starts\n"
     ]
    }
   ],
   "source": [
    "#test function\n",
    "a=who_starts(True,players,None)\n",
    "b=who_starts(False,players,beta)"
   ]
  },
  {
   "cell_type": "markdown",
   "id": "fb12d3d3",
   "metadata": {},
   "source": [
    "Function to make a turn, first computer option. Needs later different choices for levels. "
   ]
  },
  {
   "cell_type": "code",
   "execution_count": 162,
   "id": "31b830a0",
   "metadata": {},
   "outputs": [],
   "source": [
    "#players is only needed that higher level computer can consider other players card for choices\n",
    "#possible add past scores for that purpose also\n",
    "def turn(player,players,pile,discarded):\n",
    "    if player.mode=='computer_level_0':\n",
    "        print('mode computer (Level 0)')\n",
    "        #if take open\n",
    "        take_open=True\n",
    "        if take_open==True:\n",
    "            print(\"take from open\")\n",
    "            #count all existing cards\n",
    "            existing=[]\n",
    "            for j in range(12):\n",
    "                if player.exist[j]==1:\n",
    "                    existing.append(player.list_cards[j])\n",
    "            selected=random.choice(range(12))\n",
    "            card_a=player.give_card(selected)\n",
    "            card_b=pile_open.give_card()\n",
    "            print(\"Player gives \"+str(card_a))\n",
    "            print(\"Player gets \"+str(card_b))\n",
    "            pile_open.get_card(card_a)\n",
    "            player.get_card(card_b,selected)\n",
    "            print(\"Player has now \"+str(player.list_cards[selected]))\n",
    "            print(\"Pile has now \"+str(pile_open.list_cards[-1]))"
   ]
  },
  {
   "cell_type": "code",
   "execution_count": 163,
   "id": "fcc3370d",
   "metadata": {},
   "outputs": [
    {
     "name": "stdout",
     "output_type": "stream",
     "text": [
      "mode computer (Level 0)\n",
      "take from open\n",
      "Player gives Card has Value 7 and is closed. Its position is at [70, 0]\n",
      "Player gets Card has Value 0 and is open. Its position is at [300, 10]\n",
      "Player has now Card has Value 0 and is open. Its position is at [70, 0]\n",
      "Pile has now Card has Value 7 and is open. Its position is at [300, 10]\n"
     ]
    }
   ],
   "source": [
    "turn(alpha,players,pile_closed,pile_open)\n",
    "#seems to work but check again"
   ]
  },
  {
   "cell_type": "markdown",
   "id": "55f68219",
   "metadata": {},
   "source": [
    "Function to draw the results in the GUI  screen.  Should be disactivated for computer only."
   ]
  },
  {
   "cell_type": "code",
   "execution_count": 26,
   "id": "d862f422",
   "metadata": {},
   "outputs": [],
   "source": [
    "# draw function\n",
    "def draw(canvas):\n",
    "    global pile_open,pile_closed, players\n",
    "    #display the top most card\n",
    "    p_open=pile_open.list_cards[-1]\n",
    "    p_closed=pile_closed.list_cards[-1]\n",
    "    # test to make sure that card.draw works\n",
    "    p_open.draw(canvas)\n",
    "    p_closed.draw(canvas)\n",
    "    for i in range(len(players)):\n",
    "        for j in range(12):\n",
    "            #only cards which exist are drawn:\n",
    "            if players[i].exist[j]==1:\n",
    "                card=players[i].list_cards[j]\n",
    "                if len(players)==2:\n",
    "                    drawpos=list(card.position)\n",
    "                    drawpos[0]=i*290+players[i].positionx[j]\n",
    "                    drawpos[1]=100+players[i].positiony[j]\n",
    "                    card.set_position(drawpos)\n",
    "                    card.draw(canvas)\n",
    "                    canvas.draw_text(players[i].name,(100+(i%2)*290,180*(1+(i//2))+90),15,'Black')\n",
    "                if abs(len(players)-3.5)==0.5:\n",
    "                    drawpos=list(card.position)\n",
    "                    drawpos[0]=(i%2)*290+players[i].positionx[j]\n",
    "                    drawpos[1]=180*(i//2)+100+players[i].positiony[j]\n",
    "                    card.set_position(drawpos)\n",
    "                    card.draw(canvas)\n",
    "                    canvas.draw_text(players[i].name,(100+(i%2)*290,180*(1+(i//2))+90),15,'Black')\n",
    "                if abs(len(players)-5.5)==0.5:\n",
    "                    drawpos=list(card.position)\n",
    "                    drawpos[0]=(i%3)*290+players[i].positionx[j]\n",
    "                    drawpos[1]=180*(i//3)+100+players[i].positiony[j]\n",
    "                    card.set_position(drawpos)\n",
    "                    card.draw(canvas)\n",
    "                    canvas.draw_text(players[i].name,(100+(i%3)*290,180*(1+(i//3))+90),15,'Black')     \n",
    "                if abs(len(players)-7.5)==0.5:\n",
    "                    drawpos=list(card.position)\n",
    "                    drawpos[0]=(i%4)*290+players[i].positionx[j]\n",
    "                    drawpos[1]=180*(i//4)+100+players[i].positiony[j]\n",
    "                    card.set_position(drawpos)\n",
    "                    card.draw(canvas)\n",
    "                    canvas.draw_text(players[i].name,(100+(i%4)*290,180*(1+(i//4))+90),15,'Black')    "
   ]
  },
  {
   "cell_type": "markdown",
   "id": "f527c6ca",
   "metadata": {},
   "source": [
    "Drawing works now for all allowed player numbers. "
   ]
  },
  {
   "cell_type": "code",
   "execution_count": 28,
   "id": "490174d8",
   "metadata": {},
   "outputs": [
    {
     "ename": "SystemExit",
     "evalue": "0",
     "output_type": "error",
     "traceback": [
      "An exception has occurred, use %tb to see the full traceback.\n",
      "\u001b[0;31mSystemExit\u001b[0m\u001b[0;31m:\u001b[0m 0\n"
     ]
    }
   ],
   "source": [
    "#seems not work well in the notebook sometimes, not clear whether real problem\n",
    "if len(players)==2:\n",
    "    frame = simplegui.create_frame(\"Skyjo\", 290+280*(1), 100+3*50+30) \n",
    "if abs(len(players)-3.5)==0.5:\n",
    "    frame = simplegui.create_frame(\"Skyjo\", 290+280*(1), 100+3*50*2+60)\n",
    "if abs(len(players)-5.5)==0.5:\n",
    "    frame = simplegui.create_frame(\"Skyjo\", 290+280*(2)+10, 100+3*50*2+60)    \n",
    "if abs(len(players)-7.5)==0.5:\n",
    "    frame = simplegui.create_frame(\"Skyjo\", 290+280*(3)+20, 100+3*50*2+60)  \n",
    "frame.set_canvas_background(\"White\")\n",
    "frame.set_draw_handler(draw)\n",
    "frame.start()       "
   ]
  },
  {
   "cell_type": "code",
   "execution_count": null,
   "id": "3df219c8",
   "metadata": {},
   "outputs": [],
   "source": [
    "exit()\n"
   ]
  },
  {
   "cell_type": "code",
   "execution_count": null,
   "id": "40a0907f",
   "metadata": {},
   "outputs": [],
   "source": []
  }
 ],
 "metadata": {
  "kernelspec": {
   "display_name": "Python 3 (ipykernel)",
   "language": "python",
   "name": "python3"
  },
  "language_info": {
   "codemirror_mode": {
    "name": "ipython",
    "version": 3
   },
   "file_extension": ".py",
   "mimetype": "text/x-python",
   "name": "python",
   "nbconvert_exporter": "python",
   "pygments_lexer": "ipython3",
   "version": "3.8.15"
  }
 },
 "nbformat": 4,
 "nbformat_minor": 5
}
