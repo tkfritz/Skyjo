{
 "cells": [
  {
   "cell_type": "markdown",
   "id": "1ec7c94e",
   "metadata": {},
   "source": [
    "# Developement of optimization algorithm\n",
    "\n",
    "The past attemps of improving the computer win percentage beyound the results fitting random data sets were not successful. When using the improved computer the main problem was that the computer mainly fit the computer model but that it did not improve in more general cases.\n",
    "There are not enough computer versus human to use them efficiently but possible the same problem exist also there.\n",
    "\n",
    "Thus a new method is needed. \n",
    "The steps of it are\n",
    "\n",
    "0) start with random model or with result from other fits? \n",
    "1) create a new computer model rather random first\n",
    "later gradient methods can be used to combine past models\n",
    "2) play sufficently often against existing models that win percentages are reliable enough. \n",
    "\n",
    "Iterate step 1 to 2 for some time, test against humans sometimes.\n",
    "\n",
    "Do the models need a random component? Can be set easily to 0, with a paramter, the oppiste is not true, thus included.  "
   ]
  },
  {
   "cell_type": "markdown",
   "id": "198b39ea",
   "metadata": {},
   "source": [
    "Steps needed:\n",
    "    1) New random model which follows the same principle than the not random models need to be build.\n",
    "    2) Full model or step wise?\n",
    "\n",
    "Full means best option is predicted from a single model. \n",
    "Otherwise only each step is predicted, still needs information on the previous steps in the process. \n",
    "\n",
    "I decide for step wise. "
   ]
  },
  {
   "cell_type": "markdown",
   "id": "525e81be",
   "metadata": {},
   "source": [
    "1) Is whether to take open card. Is binary, thus logistic function used. Parameters, for now minumum amount no chance to consider vanishing card for now:\n",
    "    value_open_card, sum_own, own_n_closed, sum_other, other_n_closed, delta_score (own-other current score) (or more deltas?)\n",
    "2) (Is not always applied) Is whether to take previously closed card: Is binary, thus logistic function used. Parameters, for now minumum amount no chance to consider vanishing card for now:\n",
    "    value_closed_card, sum_own, own_n_closed, sum_other, other_n_closed, delta_score \n",
    "3) which own card to give if not random trun which is random, is numeric, options are the cards available and closed cards, depends on available cards, in particular the largest value, when that is used exclusively of the open one, it gets a binary problem, again logistic, parameters: Value of_exchangable_card, sum_own, own_n_closed, sum_other, other_n_closed, delta_score \n",
    " "
   ]
  },
  {
   "cell_type": "markdown",
   "id": "2615e358",
   "metadata": {},
   "source": [
    "Means that random is not anymore random here but more clever but fine as start."
   ]
  },
  {
   "cell_type": "code",
   "execution_count": null,
   "id": "ae2a96ef",
   "metadata": {},
   "outputs": [],
   "source": [
    "import numpy as np\n",
    "import random as random\n",
    "import scipy\n",
    "#using simpleguitk for display, is not needed for computer game\n",
    "import simpleguitk as simplegui\n",
    "import time\n",
    "#new ones\n",
    "import pandas as pd\n",
    "#ml methods\n",
    "from xgboost import XGBRegressor\n",
    "from xgboost import XGBClassifier\n",
    "#logistic regression\n",
    "from sklearn.linear_model import LogisticRegression\n",
    "from sklearn.linear_model import LinearRegression\n",
    "import os\n",
    "#skyjo game classes and functions\n",
    "from skyjo_functions4 import *\n",
    "#own functions for machine learning\n",
    "from ml_functions2 import *\n",
    "#for plotting \n",
    "from matplotlib import pyplot as plt\n",
    "from matplotlib.pyplot import figure\n",
    "import seaborn as sns\n",
    "\n",
    "#for confidence intervalls\n",
    "from scipy.stats import beta\n",
    "#for splitting\n",
    "from sklearn.model_selection import train_test_split\n",
    "#confusing matrix\n",
    "from sklearn.metrics import confusion_matrix"
   ]
  }
 ],
 "metadata": {
  "kernelspec": {
   "display_name": "Python 3 (ipykernel)",
   "language": "python",
   "name": "python3"
  },
  "language_info": {
   "codemirror_mode": {
    "name": "ipython",
    "version": 3
   },
   "file_extension": ".py",
   "mimetype": "text/x-python",
   "name": "python",
   "nbconvert_exporter": "python",
   "pygments_lexer": "ipython3",
   "version": "3.8.15"
  }
 },
 "nbformat": 4,
 "nbformat_minor": 5
}
