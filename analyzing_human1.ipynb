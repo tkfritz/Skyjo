{
 "cells": [
  {
   "cell_type": "code",
   "execution_count": 21,
   "id": "d6d64f90",
   "metadata": {},
   "outputs": [],
   "source": [
    "import numpy as np\n",
    "import random as random\n",
    "#using simpleguitk for display, is not needed for computer game\n",
    "import simpleguitk as simplegui\n",
    "import time\n",
    "#new ones\n",
    "import pandas as pd\n",
    "from xgboost import XGBRegressor\n",
    "import os"
   ]
  },
  {
   "cell_type": "code",
   "execution_count": 22,
   "id": "77b574c2",
   "metadata": {},
   "outputs": [],
   "source": [
    "myPath='/home/tobias/ml-testing/games/skyjo'\n",
    "length=len([f for f in os.listdir(myPath) \n",
    "    if f.startswith('human_computer1_') and os.path.isfile(os.path.join(myPath, f))])"
   ]
  },
  {
   "cell_type": "code",
   "execution_count": 23,
   "id": "4c6625e9",
   "metadata": {},
   "outputs": [
    {
     "name": "stdout",
     "output_type": "stream",
     "text": [
      "[[  1.  24.  46.   1.  30.   0.   1.]\n",
      " [  2.  36.   9.   0.  32.   0.   1.]\n",
      " [  3.  78.  24.   0.  31.   1.   1.]\n",
      " [  4.  11.  49.   1.  24.   0.   1.]\n",
      " [  5.   9.  22.   1.  26.   0.   1.]\n",
      " [  6.  13.  28.   1.  78.   1.   1.]\n",
      " [  7.   9.  19.   1.  41.   1.   1.]\n",
      " [  8.  10.  30.   1.  33.   1.   1.]\n",
      " [  9.  32.   8.   0.  31.   1.   1.]\n",
      " [ 10.  20.  24.   1.  41.   1.   1.]\n",
      " [ 11.  22.  34.   1.  34.   0.   1.]\n",
      " [ 12.  17.  41.   1.  34.   0.   1.]\n",
      " [ 13.  27.  29.   1.  61.   0.   1.]\n",
      " [ 14.  46.  15.   0.  92.   0.   1.]\n",
      " [ 15.  11.  23.   1.  32.   0.   1.]\n",
      " [ 16.  12.  36.   1.  56.   0.   1.]\n",
      " [ 17.  16.  22.   1.  35.   1.   1.]\n",
      " [ 18.  36.   4.   0.  71.   1.   1.]\n",
      " [ 19.  19.  28.   1.  95.   1.   1.]\n",
      " [ 20.  18.  32.   1. 131.   1.   1.]\n",
      " [ 21.  26.  13.   0. 167.   1.   1.]\n",
      " [ 22.  10.  55.   1. 194.   1.   1.]\n",
      " [ 23.  28.  41.   1. 230.   1.   1.]\n",
      " [ 24.  20.  65.   1. 254.   1.   1.]\n",
      " [ 25.  29.  39.   1. 280.   1.   1.]\n",
      " [ 26.  35.  45.   1. 308.   1.   1.]\n",
      " [ 27.  24.  35.   1. 346.   1.   1.]\n",
      " [ 28.  24.  45.   1.  24.   0.   1.]\n",
      " [ 29.  18.  26.   1.  35.   1.   1.]\n",
      " [ 30.  54.   9.   0.  73.   1.   1.]\n",
      " [ 31.  36.  17.   0. 114.   1.   1.]\n",
      " [ 32.  23.  56.   1. 164.   1.   1.]\n",
      " [ 33.  26.  43.   1. 203.   1.   1.]\n",
      " [ 34.  25.  39.   1. 258.   1.   1.]\n",
      " [ 35.  34.  52.   1. 314.   1.   1.]\n",
      " [ 36.  44.  51.   1. 357.   1.   1.]\n",
      " [ 37. 106.  45.   0. 400.   1.   1.]\n",
      " [ 38.  24.  56.   1.  23.   1.   1.]\n",
      " [ 39.   8.  18.   1.  54.   1.   1.]\n",
      " [ 40.  11.  27.   1.  83.   1.   1.]\n",
      " [ 41.  10.  42.   1. 112.   1.   1.]\n",
      " [ 42.  15.  26.   1.  28.   0.   1.]\n",
      " [ 43.  30.  13.   0.  66.   0.   1.]\n",
      " [ 44.   2.  29.   1.  94.   0.   1.]\n",
      " [ 45.   6.  20.   1. 120.   0.   1.]\n",
      " [ 46.  29.  35.   1. 145.   0.   1.]\n",
      " [ 47.  21.  47.   1.  34.   0.   1.]\n",
      " [ 48.  20.  54.   1.  58.   0.   1.]\n",
      " [ 49.  19.  33.   1.  87.   0.   1.]\n",
      " [ 50.  21.  52.   1.  27.   1.   1.]\n",
      " [ 51.  30.   9.   0.  28.   0.   1.]\n",
      " [ 52.  21.  33.   1.  33.   1.   1.]\n",
      " [ 53.  12.  21.   1.  29.   1.   1.]]\n"
     ]
    }
   ],
   "source": [
    "res=np.zeros((7,length))\n",
    "deltahuman=0\n",
    "deltacomputer=0\n",
    "for i in range(length):\n",
    "    if i<9:\n",
    "        file=np.loadtxt('human_computer1_00'+str(i+1)+'.txt')\n",
    "    elif i>=9 and i<99:\n",
    "        file=np.loadtxt('human_computer1_0'+str(i+1)+'.txt')    \n",
    "    res[0,i]=i+1\n",
    "    #number of turns is overall not set zero for new game from game 50 correct\n",
    "    res[4,i]=file.shape[1]\n",
    "    #start player #does not change in new game also from game 50 correct\n",
    "    res[5,i]=file[0,0]\n",
    "    #last player\n",
    "    res[6,i]=file[0,file.shape[1]-1]\n",
    "    #always player 0, human first \n",
    "    if file[0,0]==0:\n",
    "        res[1:3,i]=file[49:51,0]\n",
    "    else:\n",
    "        res[1,i]=file[50,0]\n",
    "        res[2,i]=file[49,0]\n",
    "    if res[1,i]<res[2,i]:\n",
    "        #human winner mark\n",
    "        res[3,i]=1\n",
    "        deltahuman+=(res[2,i]-res[1,i])\n",
    "    else:\n",
    "        deltacomputer+=(res[1,i]-res[2,i])\n",
    "print(res.T)        "
   ]
  },
  {
   "cell_type": "code",
   "execution_count": 26,
   "id": "88ad3bfa",
   "metadata": {},
   "outputs": [
    {
     "name": "stdout",
     "output_type": "stream",
     "text": [
      "42.0 53\n",
      "human average 24.66\n",
      "computer average 32.34\n",
      "human adventage of  7.679\n",
      "human wins to 79.2 %\n"
     ]
    }
   ],
   "source": [
    "print(sum(res[3]), res.shape[1])\n",
    "\n",
    "print(f\"human average {round(np.mean(res[1]),3)} points\")\n",
    "                       \n",
    "print(f\"computer average {round(np.mean(res[2]),3)} points\")\n",
    "print(f\"human adventage of  {round(np.mean(res[2]-res[1]),3)} points\")\n",
    "print(f\"human wins to {round(np.mean(res[3]*100),1)} %\")"
   ]
  },
  {
   "cell_type": "code",
   "execution_count": 13,
   "id": "d8206d83",
   "metadata": {},
   "outputs": [
    {
     "name": "stdout",
     "output_type": "stream",
     "text": [
      "human average adventage 17.361 points\n",
      "computer average adventage 32.3 points\n"
     ]
    }
   ],
   "source": [
    "#average win is by to be determine deltapoints\n",
    "print(f\"human average adventage {round(deltahuman/sum(res[3]),3)} points\")\n",
    "print(f\"computer average adventage {round(deltacomputer/(res.shape[1]-sum(res[3])),3)} points\")"
   ]
  },
  {
   "cell_type": "code",
   "execution_count": 15,
   "id": "c655435f",
   "metadata": {},
   "outputs": [
    {
     "name": "stdout",
     "output_type": "stream",
     "text": [
      "(51, 145)\n"
     ]
    }
   ],
   "source": []
  },
  {
   "cell_type": "code",
   "execution_count": null,
   "id": "26d66353",
   "metadata": {},
   "outputs": [],
   "source": []
  }
 ],
 "metadata": {
  "kernelspec": {
   "display_name": "Python 3 (ipykernel)",
   "language": "python",
   "name": "python3"
  },
  "language_info": {
   "codemirror_mode": {
    "name": "ipython",
    "version": 3
   },
   "file_extension": ".py",
   "mimetype": "text/x-python",
   "name": "python",
   "nbconvert_exporter": "python",
   "pygments_lexer": "ipython3",
   "version": "3.8.15"
  }
 },
 "nbformat": 4,
 "nbformat_minor": 5
}
