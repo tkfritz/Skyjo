{
 "cells": [
  {
   "cell_type": "markdown",
   "id": "8fa720fb",
   "metadata": {},
   "source": [
    "In this notebook I analyze the computer (level 1) performance against humans. "
   ]
  },
  {
   "cell_type": "code",
   "execution_count": 36,
   "id": "d6d64f90",
   "metadata": {},
   "outputs": [],
   "source": [
    "import numpy as np\n",
    "import random as random\n",
    "#using simpleguitk for display, is not needed for computer game\n",
    "import simpleguitk as simplegui\n",
    "import time\n",
    "#new ones\n",
    "import pandas as pd\n",
    "from xgboost import XGBRegressor\n",
    "import os\n",
    "#skyjo game classes and functions\n",
    "from skyjo_functions4 import *\n",
    "#own functions for machine learning\n",
    "from ml_functions2 import *"
   ]
  },
  {
   "cell_type": "code",
   "execution_count": 13,
   "id": "77b574c2",
   "metadata": {},
   "outputs": [
    {
     "name": "stdout",
     "output_type": "stream",
     "text": [
      "['human_computer1_001.txt', 'human_computer1_002.txt', 'human_computer1_003.txt', 'human_computer1_004.txt', 'human_computer1_005.txt', 'human_computer1_006.txt', 'human_computer1_007.txt', 'human_computer1_008.txt', 'human_computer1_009.txt', 'human_computer1_010.txt', 'human_computer1_011.txt', 'human_computer1_012.txt', 'human_computer1_013.txt', 'human_computer1_014.txt', 'human_computer1_015.txt', 'human_computer1_016.txt', 'human_computer1_017.txt', 'human_computer1_018.txt', 'human_computer1_019.txt', 'human_computer1_020.txt', 'human_computer1_021.txt', 'human_computer1_022.txt', 'human_computer1_023.txt', 'human_computer1_024.txt', 'human_computer1_025.txt', 'human_computer1_026.txt', 'human_computer1_027.txt', 'human_computer1_028.txt', 'human_computer1_029.txt', 'human_computer1_030.txt', 'human_computer1_031.txt', 'human_computer1_032.txt', 'human_computer1_033.txt', 'human_computer1_034.txt', 'human_computer1_035.txt', 'human_computer1_036.txt', 'human_computer1_037.txt', 'human_computer1_038.txt', 'human_computer1_039.txt', 'human_computer1_040.txt', 'human_computer1_041.txt', 'human_computer1_042.txt', 'human_computer1_043.txt', 'human_computer1_044.txt', 'human_computer1_045.txt', 'human_computer1_046.txt', 'human_computer1_047.txt', 'human_computer1_048.txt', 'human_computer1_049.txt', 'human_computer1_050.txt', 'human_computer1_051.txt', 'human_computer1_052.txt', 'human_computer1_053.txt', 'human_computer1_054.txt', 'human_computer1_055.txt', 'human_computer1_056.txt', 'human_computer1_057.txt', 'human_computer1_058.txt', 'human_computer1_059.txt', 'human_computer1_060.txt', 'human_computer1_061.txt', 'human_computer1_062.txt', 'human_computer1_063.txt', 'human_computer1_064.txt', 'human_computer1_065.txt', 'human_computer1_066.txt', 'human_computer1_067.txt', 'human_computer1_068.txt', 'human_computer1_069.txt']\n"
     ]
    }
   ],
   "source": [
    "myPath='/home/tobias/ml-testing/games/skyjo'\n",
    "list_input_files=[f for f in os.listdir(myPath) \n",
    "    if f.startswith('human_computer1_') and os.path.isfile(os.path.join(myPath, f))]\n",
    "list_input_files.sort()\n",
    "print(list_input_files)"
   ]
  },
  {
   "cell_type": "code",
   "execution_count": 74,
   "id": "4c6625e9",
   "metadata": {},
   "outputs": [
    {
     "name": "stdout",
     "output_type": "stream",
     "text": [
      "[[  1.  24.  46.   1.  30.   0.   1.]\n",
      " [  2.  36.   9.   0.  32.   0.   1.]\n",
      " [  3.  78.  24.   0.  31.   1.   1.]\n",
      " [  4.  11.  49.   1.  24.   0.   1.]\n",
      " [  5.   9.  22.   1.  26.   0.   1.]\n",
      " [  6.  13.  28.   1.  78.   1.   1.]\n",
      " [  7.   9.  19.   1.  41.   1.   1.]\n",
      " [  8.  10.  30.   1.  33.   1.   1.]\n",
      " [  9.  32.   8.   0.  31.   1.   1.]\n",
      " [ 10.  20.  24.   1.  41.   1.   1.]\n",
      " [ 11.  22.  34.   1.  34.   0.   1.]\n",
      " [ 12.  17.  41.   1.  34.   0.   1.]\n",
      " [ 13.  27.  29.   1.  27.   0.   1.]\n",
      " [ 14.  46.  15.   0.  31.   0.   1.]\n",
      " [ 15.  11.  23.   1.  32.   0.   1.]\n",
      " [ 16.  12.  36.   1.  24.   0.   1.]\n",
      " [ 17.  16.  22.   1.  35.   1.   1.]\n",
      " [ 18.  36.   4.   0.  36.   1.   1.]\n",
      " [ 19.  19.  28.   1.  24.   1.   1.]\n",
      " [ 20.  18.  32.   1.  36.   1.   1.]\n",
      " [ 21.  26.  13.   0.  36.   1.   1.]\n",
      " [ 22.  10.  55.   1.  27.   1.   1.]\n",
      " [ 23.  28.  41.   1.  36.   1.   1.]\n",
      " [ 24.  20.  65.   1.  24.   1.   1.]\n",
      " [ 25.  29.  39.   1.  26.   1.   1.]\n",
      " [ 26.  35.  45.   1.  28.   1.   1.]\n",
      " [ 27.  24.  35.   1.  38.   1.   1.]\n",
      " [ 28.  24.  45.   1.  24.   0.   1.]\n",
      " [ 29.  18.  26.   1.  35.   1.   1.]\n",
      " [ 30.  54.   9.   0.  38.   1.   1.]\n",
      " [ 31.  36.  17.   0.  41.   1.   1.]\n",
      " [ 32.  23.  56.   1.  50.   1.   1.]\n",
      " [ 33.  26.  43.   1.  39.   1.   1.]\n",
      " [ 34.  25.  39.   1.  55.   1.   1.]\n",
      " [ 35.  34.  52.   1.  56.   1.   1.]\n",
      " [ 36.  44.  51.   1.  43.   1.   1.]\n",
      " [ 37. 106.  45.   0.  43.   1.   1.]\n",
      " [ 38.  24.  56.   1.  23.   1.   1.]\n",
      " [ 39.   8.  18.   1.  31.   1.   1.]\n",
      " [ 40.  11.  27.   1.  29.   1.   1.]\n",
      " [ 41.  10.  42.   1.  29.   1.   1.]\n",
      " [ 42.  15.  26.   1.  28.   0.   1.]\n",
      " [ 43.  30.  13.   0.  38.   0.   1.]\n",
      " [ 44.   2.  29.   1.  28.   0.   1.]\n",
      " [ 45.   6.  20.   1.  26.   0.   1.]\n",
      " [ 46.  29.  35.   1.  25.   0.   1.]\n",
      " [ 47.  21.  47.   1.  34.   0.   1.]\n",
      " [ 48.  20.  54.   1.  24.   0.   1.]\n",
      " [ 49.  19.  33.   1.  29.   0.   1.]\n",
      " [ 50.  21.  52.   1.  27.   1.   1.]\n",
      " [ 51.  30.   9.   0.  28.   0.   1.]\n",
      " [ 52.  21.  33.   1.  33.   1.   1.]\n",
      " [ 53.  12.  21.   1.  29.   1.   1.]\n",
      " [ 54.  20.  21.   1.  26.   0.   1.]\n",
      " [ 55.  14.  34.   1.  25.   1.   1.]\n",
      " [ 56.  13.  45.   1.  33.   1.   1.]\n",
      " [ 57.  44.  11.   0.  28.   0.   1.]\n",
      " [ 58.  22.  26.   1.  26.   0.   1.]\n",
      " [ 59.   5.  37.   1.  27.   1.   1.]\n",
      " [ 60.  23.  44.   1.  29.   1.   1.]\n",
      " [ 61.  14.  43.   1.  25.   1.   1.]\n",
      " [ 62.   4.   8.   1.  24.   0.   1.]\n",
      " [ 63.  26.  69.   1.  23.   1.   1.]\n",
      " [ 64.  14.  39.   1.  29.   1.   1.]\n",
      " [ 65.  23.  45.   1.  26.   0.   1.]\n",
      " [ 66.  29.  44.   1.  23.   1.   1.]\n",
      " [ 67.  72.  34.   0.  24.   0.   1.]\n",
      " [ 68.  24.  27.   1.  28.   0.   1.]\n",
      " [ 69.  13.  45.   1.  29.   1.   1.]]\n",
      "69\n"
     ]
    }
   ],
   "source": [
    "res=np.zeros((7,len(list_input_files)))\n",
    "deltahuman=0\n",
    "deltacomputer=0\n",
    "#list of results, currect ones need to \n",
    "listf=[]\n",
    "for i in range(len(list_input_files)):\n",
    "    file=np.loadtxt(list_input_files[i])   \n",
    "    x=0\n",
    "    #get previous also to check that it is doe snot include also old input\n",
    "    if i>0:\n",
    "        ofile=np.loadtxt(list_input_files[i-1])  \n",
    "        #append all if equal besides score or beyound game 50\n",
    "        if sum(np.round(ofile[0:49,0]))!=sum(np.round(file[0:49,0])) or i>50:\n",
    "            listf.append(file)\n",
    "        else:\n",
    "            #otherwise only append the difference\n",
    "            x=1\n",
    "            subfile=file[:,ofile.shape[1]:file.shape[1]]\n",
    "            #chnage round number in it\n",
    "            subfile[48]=range(subfile.shape[1])\n",
    "            listf.append(subfile)\n",
    "            #could add rounds from end, but better not since not possible in reality\n",
    "    else:\n",
    "        listf.append(file)\n",
    "    res[0,i]=i+1\n",
    "    #number of turns is overall not set zero for new game from game 50 correct\n",
    "    if x==0:\n",
    "        res[4,i]=file.shape[1]\n",
    "        #start player #does not change in new game also from game 50 correct\n",
    "        res[5,i]=file[0,0]\n",
    "    else:\n",
    "        res[4,i]=subfile.shape[1]\n",
    "        res[5,i]=subfile[0,0]\n",
    "    #start player #does not change in new game also from game 50 correct\n",
    "    res[5,i]=file[0,0]\n",
    "    #last player\n",
    "    res[6,i]=file[0,file.shape[1]-1]\n",
    "    #always player 0, human first \n",
    "    if file[0,0]==0:\n",
    "        res[1:3,i]=file[49:51,0]\n",
    "    else:\n",
    "        res[1,i]=file[50,0]\n",
    "        res[2,i]=file[49,0]\n",
    "    if res[1,i]<res[2,i]:\n",
    "        #human winner mark\n",
    "        res[3,i]=1\n",
    "        #to calculate by how much a  human wins in average \n",
    "        deltahuman+=(res[2,i]-res[1,i])\n",
    "    else:\n",
    "        deltacomputer+=(res[1,i]-res[2,i])\n",
    "\n",
    "#print array\n",
    "#the longest length of 78 was when i tested the vanihsing cards on purpose\n",
    "print(res.T)        \n",
    "#print number of elements in list\n",
    "print(len(listf))"
   ]
  },
  {
   "cell_type": "code",
   "execution_count": 69,
   "id": "3c81e77b",
   "metadata": {},
   "outputs": [],
   "source": [
    "#convert lists of differnet lengths consistent of different arrays of same shape[0] but different shape[1]\n",
    "def lists_arrays_to_one(listf,int2=True):\n",
    "    #determine length of output\n",
    "    c=0\n",
    "    for i in range(len(listf)):\n",
    "        c+=listf[i].shape[1]\n",
    "        #create array\n",
    "    ar=np.zeros((listf[0].shape[0],c))   \n",
    "    c=0\n",
    "    #now fill it\n",
    "    for i in range(len(listf)):\n",
    "        if int2==True:\n",
    "            ar[:,c:c+listf[i].shape[1]]=np.round(listf[i])\n",
    "        else:\n",
    "            ar[:,c:c+listf[i].shape[1]]=np.round(listf[i])\n",
    "        c+=listf[i].shape[1]\n",
    "    return ar     "
   ]
  },
  {
   "cell_type": "code",
   "execution_count": 71,
   "id": "bd60b74b",
   "metadata": {},
   "outputs": [
    {
     "name": "stdout",
     "output_type": "stream",
     "text": [
      "(51, 2205)\n"
     ]
    }
   ],
   "source": [
    "ar=lists_arrays_to_one(listf)\n",
    "print(ar.shape)"
   ]
  },
  {
   "cell_type": "code",
   "execution_count": 8,
   "id": "88ad3bfa",
   "metadata": {},
   "outputs": [
    {
     "name": "stdout",
     "output_type": "stream",
     "text": [
      "the human won 56 times of 69 rounds\n",
      "the human average is 24.159 points\n",
      "the computer average is 33.13 points\n",
      "the human average adventage is  8.971 points\n",
      "the human wins to 81.2 %\n"
     ]
    }
   ],
   "source": [
    "print(f\"the human won {int(sum(res[3]))} times of {res.shape[1]} rounds\")\n",
    "\n",
    "print(f\"the human average is {round(np.mean(res[1]),3)} points\")\n",
    "                       \n",
    "print(f\"the computer average is {round(np.mean(res[2]),3)} points\")\n",
    "print(f\"the human average adventage is  {round(np.mean(res[2]-res[1]),3)} points\")\n",
    "print(f\"the human wins to {round(np.mean(res[3]*100),1)} %\")"
   ]
  },
  {
   "cell_type": "code",
   "execution_count": 9,
   "id": "d8206d83",
   "metadata": {},
   "outputs": [
    {
     "name": "stdout",
     "output_type": "stream",
     "text": [
      "human average adventage 18.464 points\n",
      "computer average adventage 31.923 points\n"
     ]
    }
   ],
   "source": [
    "#average win is by to be determine deltapoints\n",
    "print(f\"human average adventage {round(deltahuman/sum(res[3]),3)} points\")\n",
    "print(f\"computer average adventage {round(deltacomputer/(res.shape[1]-sum(res[3])),3)} points\")"
   ]
  },
  {
   "cell_type": "code",
   "execution_count": 15,
   "id": "c655435f",
   "metadata": {},
   "outputs": [
    {
     "name": "stdout",
     "output_type": "stream",
     "text": [
      "(51, 145)\n"
     ]
    }
   ],
   "source": []
  },
  {
   "cell_type": "code",
   "execution_count": null,
   "id": "26d66353",
   "metadata": {},
   "outputs": [],
   "source": []
  }
 ],
 "metadata": {
  "kernelspec": {
   "display_name": "Python 3 (ipykernel)",
   "language": "python",
   "name": "python3"
  },
  "language_info": {
   "codemirror_mode": {
    "name": "ipython",
    "version": 3
   },
   "file_extension": ".py",
   "mimetype": "text/x-python",
   "name": "python",
   "nbconvert_exporter": "python",
   "pygments_lexer": "ipython3",
   "version": "3.8.15"
  }
 },
 "nbformat": 4,
 "nbformat_minor": 5
}
