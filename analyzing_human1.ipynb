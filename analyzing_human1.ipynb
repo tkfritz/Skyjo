{
 "cells": [
  {
   "cell_type": "markdown",
   "id": "bf57a4ca",
   "metadata": {},
   "source": [
    "In this notebook I analyze the computer (level 1) performance against humans. "
   ]
  },
  {
   "cell_type": "code",
   "execution_count": 174,
   "id": "d6d64f90",
   "metadata": {},
   "outputs": [],
   "source": [
    "import numpy as np\n",
    "import random as random\n",
    "import scipy\n",
    "#using simpleguitk for display, is not needed for computer game\n",
    "import simpleguitk as simplegui\n",
    "import time\n",
    "#new ones\n",
    "import pandas as pd\n",
    "from xgboost import XGBRegressor\n",
    "import os\n",
    "#skyjo game classes and functions\n",
    "from skyjo_functions4 import *\n",
    "#own functions for machine learning\n",
    "from ml_functions2 import *\n",
    "#for plotting \n",
    "from matplotlib import pyplot as plt\n",
    "from matplotlib.pyplot import figure"
   ]
  },
  {
   "cell_type": "code",
   "execution_count": 175,
   "id": "77b574c2",
   "metadata": {},
   "outputs": [
    {
     "name": "stdout",
     "output_type": "stream",
     "text": [
      "['human_computer1_001.txt', 'human_computer1_002.txt', 'human_computer1_003.txt', 'human_computer1_004.txt', 'human_computer1_005.txt', 'human_computer1_006.txt', 'human_computer1_007.txt', 'human_computer1_008.txt', 'human_computer1_009.txt', 'human_computer1_010.txt', 'human_computer1_011.txt', 'human_computer1_012.txt', 'human_computer1_013.txt', 'human_computer1_014.txt', 'human_computer1_015.txt', 'human_computer1_016.txt', 'human_computer1_017.txt', 'human_computer1_018.txt', 'human_computer1_019.txt', 'human_computer1_020.txt', 'human_computer1_021.txt', 'human_computer1_022.txt', 'human_computer1_023.txt', 'human_computer1_024.txt', 'human_computer1_025.txt', 'human_computer1_026.txt', 'human_computer1_027.txt', 'human_computer1_028.txt', 'human_computer1_029.txt', 'human_computer1_030.txt', 'human_computer1_031.txt', 'human_computer1_032.txt', 'human_computer1_033.txt', 'human_computer1_034.txt', 'human_computer1_035.txt', 'human_computer1_036.txt', 'human_computer1_037.txt', 'human_computer1_038.txt', 'human_computer1_039.txt', 'human_computer1_040.txt', 'human_computer1_041.txt', 'human_computer1_042.txt', 'human_computer1_043.txt', 'human_computer1_044.txt', 'human_computer1_045.txt', 'human_computer1_046.txt', 'human_computer1_047.txt', 'human_computer1_048.txt', 'human_computer1_049.txt', 'human_computer1_050.txt', 'human_computer1_051.txt', 'human_computer1_052.txt', 'human_computer1_053.txt', 'human_computer1_054.txt', 'human_computer1_055.txt', 'human_computer1_056.txt', 'human_computer1_057.txt', 'human_computer1_058.txt', 'human_computer1_059.txt', 'human_computer1_060.txt', 'human_computer1_061.txt', 'human_computer1_062.txt', 'human_computer1_063.txt', 'human_computer1_064.txt', 'human_computer1_065.txt', 'human_computer1_066.txt', 'human_computer1_067.txt', 'human_computer1_068.txt', 'human_computer1_069.txt']\n"
     ]
    }
   ],
   "source": [
    "myPath='/home/tobias/ml-testing/games/skyjo'\n",
    "list_input_files=[f for f in os.listdir(myPath) \n",
    "    if f.startswith('human_computer1_') and os.path.isfile(os.path.join(myPath, f))]\n",
    "list_input_files.sort()\n",
    "print(list_input_files)"
   ]
  },
  {
   "cell_type": "code",
   "execution_count": 176,
   "id": "4c6625e9",
   "metadata": {},
   "outputs": [
    {
     "name": "stdout",
     "output_type": "stream",
     "text": [
      "[[  1.  24.  46.   1.  29.   0.   1.]\n",
      " [  2.  36.   9.   0.  29.   0.   1.]\n",
      " [  3.  78.  24.   0.  29.   1.   1.]\n",
      " [  4.  11.  49.   1.  29.   0.   1.]\n",
      " [  5.   9.  22.   1.  29.   0.   1.]\n",
      " [  6.  13.  28.   1.  29.   1.   1.]\n",
      " [  7.   9.  19.   1.  29.   1.   1.]\n",
      " [  8.  10.  30.   1.  29.   1.   1.]\n",
      " [  9.  32.   8.   0.  29.   1.   1.]\n",
      " [ 10.  20.  24.   1.  29.   1.   1.]\n",
      " [ 11.  22.  34.   1.  29.   0.   1.]\n",
      " [ 12.  17.  41.   1.  29.   0.   1.]\n",
      " [ 13.  27.  29.   1.  29.   0.   1.]\n",
      " [ 14.  46.  15.   0.  29.   0.   1.]\n",
      " [ 15.  11.  23.   1.  29.   0.   1.]\n",
      " [ 16.  12.  36.   1.  29.   0.   1.]\n",
      " [ 17.  16.  22.   1.  29.   1.   1.]\n",
      " [ 18.  36.   4.   0.  29.   1.   1.]\n",
      " [ 19.  19.  28.   1.  29.   1.   1.]\n",
      " [ 20.  18.  32.   1.  29.   1.   1.]\n",
      " [ 21.  26.  13.   0.  29.   1.   1.]\n",
      " [ 22.  10.  55.   1.  29.   1.   1.]\n",
      " [ 23.  28.  41.   1.  29.   1.   1.]\n",
      " [ 24.  20.  65.   1.  29.   1.   1.]\n",
      " [ 25.  29.  39.   1.  29.   1.   1.]\n",
      " [ 26.  35.  45.   1.  29.   1.   1.]\n",
      " [ 27.  24.  35.   1.  29.   1.   1.]\n",
      " [ 28.  24.  45.   1.  29.   0.   1.]\n",
      " [ 29.  18.  26.   1.  29.   1.   1.]\n",
      " [ 30.  54.   9.   0.  29.   1.   1.]\n",
      " [ 31.  36.  17.   0.  29.   1.   1.]\n",
      " [ 32.  23.  56.   1.  29.   1.   1.]\n",
      " [ 33.  26.  43.   1.  29.   1.   1.]\n",
      " [ 34.  25.  39.   1.  29.   1.   1.]\n",
      " [ 35.  34.  52.   1.  29.   1.   1.]\n",
      " [ 36.  44.  51.   1.  29.   1.   1.]\n",
      " [ 37. 106.  45.   0.  29.   1.   1.]\n",
      " [ 38.  24.  56.   1.  29.   1.   1.]\n",
      " [ 39.   8.  18.   1.  29.   1.   1.]\n",
      " [ 40.  11.  27.   1.  29.   1.   1.]\n",
      " [ 41.  10.  42.   1.  29.   1.   1.]\n",
      " [ 42.  15.  26.   1.  29.   0.   1.]\n",
      " [ 43.  30.  13.   0.  29.   0.   1.]\n",
      " [ 44.   2.  29.   1.  29.   0.   1.]\n",
      " [ 45.   6.  20.   1.  29.   0.   1.]\n",
      " [ 46.  29.  35.   1.  29.   0.   1.]\n",
      " [ 47.  21.  47.   1.  29.   0.   1.]\n",
      " [ 48.  20.  54.   1.  29.   0.   1.]\n",
      " [ 49.  19.  33.   1.  29.   0.   1.]\n",
      " [ 50.  21.  52.   1.  29.   1.   1.]\n",
      " [ 51.  30.   9.   0.  29.   0.   1.]\n",
      " [ 52.  21.  33.   1.  29.   1.   1.]\n",
      " [ 53.  12.  21.   1.  29.   1.   1.]\n",
      " [ 54.  20.  21.   1.  29.   0.   1.]\n",
      " [ 55.  14.  34.   1.  29.   1.   1.]\n",
      " [ 56.  13.  45.   1.  29.   1.   1.]\n",
      " [ 57.  44.  11.   0.  29.   0.   1.]\n",
      " [ 58.  22.  26.   1.  29.   0.   1.]\n",
      " [ 59.   5.  37.   1.  29.   1.   1.]\n",
      " [ 60.  23.  44.   1.  29.   1.   1.]\n",
      " [ 61.  14.  43.   1.  29.   1.   1.]\n",
      " [ 62.   4.   8.   1.  29.   0.   1.]\n",
      " [ 63.  26.  69.   1.  29.   1.   1.]\n",
      " [ 64.  14.  39.   1.  29.   1.   1.]\n",
      " [ 65.  23.  45.   1.  29.   0.   1.]\n",
      " [ 66.  29.  44.   1.  29.   1.   1.]\n",
      " [ 67.  72.  34.   0.  29.   0.   1.]\n",
      " [ 68.  24.  27.   1.  29.   0.   1.]\n",
      " [ 69.  13.  45.   1.  29.   1.   1.]]\n",
      "69\n"
     ]
    }
   ],
   "source": [
    "res=np.zeros((7,len(list_input_files)))\n",
    "deltahuman=0\n",
    "deltacomputer=0\n",
    "#list of results, currect ones need to \n",
    "listf=[]\n",
    "for i in range(len(list_input_files)):\n",
    "    file=np.loadtxt(list_input_files[i])   \n",
    "    #get previous also to check that it is doe snot include also old input\n",
    "    if i>0:\n",
    "        ofile=np.loadtxt(list_input_files[i-1])  \n",
    "        #append all if equal besides score or beyound game 50\n",
    "        if sum(np.round(ofile[0:49,0]))!=sum(np.round(file[0:49,0])) or i>50:\n",
    "            #add round number here \n",
    "            finfile=np.zeros((file.shape[0]+1,file.shape[1]))\n",
    "            finfile[:file.shape[0],:file.shape[1]]=file\n",
    "            finfile[file.shape[0],:file.shape[1]]=i\n",
    "            listf.append(finfile)\n",
    "        else:\n",
    "            #otherwise only append the difference\n",
    "            finfile=np.zeros((file.shape[0]+1,file.shape[1]-ofile.shape[1]))\n",
    "            finfile[:file.shape[0],:file.shape[1]]=file[:,ofile.shape[1]:file.shape[1]]\n",
    "            finfile[file.shape[0],:file.shape[1]]=i\n",
    "            #chnage round number in it\n",
    "            finfile[48]=range(finfile.shape[1])\n",
    "            listf.append(finfile)\n",
    "            #could add rounds from end, but better not since not possible in reality\n",
    "    else:\n",
    "        finfile=np.zeros((file.shape[0]+1,file.shape[1]))\n",
    "        finfile[:file.shape[0],:file.shape[1]]=file\n",
    "        finfile[file.shape[0],:file.shape[1]]=i\n",
    "        listf.append(finfile)\n",
    "    res[0,i]=i+1\n",
    "    #number of turns is overall not set zero for new game from game 50 correct\n",
    "    res[4,i]=subfile.shape[1]\n",
    "    #start player #does not change in new game also from game 50 correct\n",
    "    res[5,i]=subfile[0,0]\n",
    "\n",
    "    #start player #does not change in new game also from game 50 correct\n",
    "    res[5,i]=file[0,0]\n",
    "    #last player\n",
    "    res[6,i]=file[0,file.shape[1]-1]\n",
    "    #always player 0, human first \n",
    "    if file[0,0]==0:\n",
    "        res[1:3,i]=file[49:51,0]\n",
    "    else:\n",
    "        res[1,i]=file[50,0]\n",
    "        res[2,i]=file[49,0]\n",
    "    if res[1,i]<res[2,i]:\n",
    "        #human winner mark\n",
    "        res[3,i]=1\n",
    "        #to calculate by how much a  human wins in average \n",
    "        deltahuman+=(res[2,i]-res[1,i])\n",
    "    else:\n",
    "        deltacomputer+=(res[1,i]-res[2,i])\n",
    "\n",
    "#print array\n",
    "#the longest length of 78 was when i tested the vanihsing cards on purpose\n",
    "print(res.T)        \n",
    "#print number of elements in list\n",
    "print(len(listf))"
   ]
  },
  {
   "cell_type": "code",
   "execution_count": 177,
   "id": "32cab1b3",
   "metadata": {},
   "outputs": [],
   "source": [
    "#convert lists of differnet lengths consistent of different arrays of same shape[0] but different shape[1]\n",
    "def lists_arrays_to_one(listf,int2=True):\n",
    "    #determine length of output\n",
    "    c=0\n",
    "    for i in range(len(listf)):\n",
    "        c+=listf[i].shape[1]\n",
    "        #create array\n",
    "    ar=np.zeros((listf[0].shape[0],c))   \n",
    "    c=0\n",
    "    #now fill it\n",
    "    for i in range(len(listf)):\n",
    "        if int2==True:\n",
    "            ar[:,c:c+listf[i].shape[1]]=np.round(listf[i])\n",
    "        else:\n",
    "            ar[:,c:c+listf[i].shape[1]]=np.round(listf[i])\n",
    "        c+=listf[i].shape[1]\n",
    "    return ar     "
   ]
  },
  {
   "cell_type": "code",
   "execution_count": 178,
   "id": "bf34f30e",
   "metadata": {},
   "outputs": [
    {
     "name": "stdout",
     "output_type": "stream",
     "text": [
      "(52, 2205)\n"
     ]
    }
   ],
   "source": [
    "ar=lists_arrays_to_one(listf)\n",
    "print(ar.shape)"
   ]
  },
  {
   "cell_type": "code",
   "execution_count": 179,
   "id": "88ad3bfa",
   "metadata": {},
   "outputs": [
    {
     "name": "stdout",
     "output_type": "stream",
     "text": [
      "the human won 56 times of 69 rounds\n",
      "the human average is 24.159 points\n",
      "the computer average is 33.13 points\n",
      "the human average adventage is  8.971 points\n",
      "the human wins to 81.2 %\n"
     ]
    }
   ],
   "source": [
    "print(f\"the human won {int(sum(res[3]))} times of {res.shape[1]} rounds\")\n",
    "\n",
    "print(f\"the human average is {round(np.mean(res[1]),3)} points\")\n",
    "                       \n",
    "print(f\"the computer average is {round(np.mean(res[2]),3)} points\")\n",
    "print(f\"the human average adventage is  {round(np.mean(res[2]-res[1]),3)} points\")\n",
    "print(f\"the human wins to {round(np.mean(res[3]*100),1)} %\")"
   ]
  },
  {
   "cell_type": "code",
   "execution_count": 180,
   "id": "d8206d83",
   "metadata": {},
   "outputs": [
    {
     "name": "stdout",
     "output_type": "stream",
     "text": [
      "human average adventage 18.464 points\n",
      "computer average adventage 31.923 points\n"
     ]
    }
   ],
   "source": [
    "#average win is by to be determine deltapoints\n",
    "print(f\"human average adventage {round(deltahuman/sum(res[3]),3)} points\")\n",
    "print(f\"computer average adventage {round(deltacomputer/(res.shape[1]-sum(res[3])),3)} points\")"
   ]
  },
  {
   "cell_type": "code",
   "execution_count": 181,
   "id": "c655435f",
   "metadata": {},
   "outputs": [
    {
     "name": "stdout",
     "output_type": "stream",
     "text": [
      "52 ['acting_player', 'open_pile_card', 'number_of_-2_in_open', 'number_of_-1_in_open', 'number_of_0_in_open', 'number_of_1_in_open', 'number_of_2_in_open', 'number_of_3_in_open', 'number_of_4_in_open', 'number_of_5_in_open', 'number_of_6_in_open', 'number_of_7_in_open', 'number_of_8_in_open', 'number_of_9_in_open', 'number_of_10_in_open', 'number_of_11_in_open', 'number_of_12_in_open', 'number_of_cards_in_closed', 'own_cards_0', 'own_cards_1', 'own_cards_2', 'own_cards_3', 'own_cards_4', 'own_cards_5', 'own_cards_6', 'own_cards_7', 'own_cards_8', 'own_cards_9', 'own_cards_10', 'own_cards_11', 'other_player_cards_0', 'other_player_cards_1', 'other_player_cards_2', 'other_player_cards_3', 'other_player_cards_4', 'other_player_cards_5', 'other_player_cards_6', 'other_player_cards_7', 'other_player_cards_8', 'other_player_cards_9', 'other_player_cards_10', 'other_player_cards_11', 'action_take_open', 'action_discard', 'discard_value', 'id_player_card', 'numeric_player_card', 'vanish_marker', 'turn', 'score_self', 'score_other', 'round_number']\n",
      "43\n",
      "action_discard [0. 0. 0. ... 0. 0. 0.]\n",
      "44\n",
      "discard_value [30.  2. 30. ...  0. 30. 30.]\n",
      "45\n",
      "id_player_card [4. 0. 7. ... 3. 0. 2.]\n",
      "46\n",
      "numeric_player_card [ 5. -1.  8. ...  0. 20.  2.]\n",
      "47\n",
      "vanish_marker [0. 0. 0. ... 0. 0. 0.]\n",
      "48\n",
      "turn [ 0.  1.  2. ... 26. 27. 28.]\n",
      "49\n",
      "score_self [24. 46. 24. ... 45. 13. 45.]\n",
      "50\n",
      "score_other [46. 24. 46. ... 13. 45. 13.]\n",
      "51\n",
      "round_number [ 0.  0.  0. ... 68. 68. 68.]\n"
     ]
    }
   ],
   "source": [
    "#name of columns\n",
    "columns=['acting_player']\n",
    "columns.append('open_pile_card')\n",
    "for i in range(15):\n",
    "    columns.append('number_of_'+str(i-2)+'_in_open')\n",
    "columns.append('number_of_cards_in_closed')\n",
    "for i in range(12):\n",
    "    columns.append('own_cards_'+str(i))\n",
    "for i in range(12):\n",
    "    columns.append('other_player_cards_'+str(i))    \n",
    "columns.append('action_take_open')\n",
    "columns.append('action_discard')\n",
    "columns.append('discard_value')\n",
    "columns.append('id_player_card')\n",
    "columns.append('numeric_player_card') \n",
    "columns.append('vanish_marker')\n",
    "columns.append('turn')\n",
    "columns.append('score_self')\n",
    "columns.append('score_other')\n",
    "columns.append('round_number')\n",
    "print(len(columns),columns)\n",
    "for i in range(43,52):\n",
    "    print(i)\n",
    "    print(columns[i],ar[i])"
   ]
  },
  {
   "cell_type": "code",
   "execution_count": 182,
   "id": "26d66353",
   "metadata": {},
   "outputs": [
    {
     "name": "stdout",
     "output_type": "stream",
     "text": [
      "   acting_player  open_pile_card  number_of_-2_in_open  number_of_-1_in_open  \\\n",
      "0            0.0             4.0                   0.0                   0.0   \n",
      "1            1.0             5.0                   0.0                   0.0   \n",
      "2            0.0            -1.0                   0.0                   0.0   \n",
      "3            1.0             8.0                   0.0                   0.0   \n",
      "4            0.0             2.0                   0.0                   0.0   \n",
      "\n",
      "   number_of_0_in_open  number_of_1_in_open  number_of_2_in_open  \\\n",
      "0                  0.0                  0.0                  0.0   \n",
      "1                  0.0                  0.0                  0.0   \n",
      "2                  0.0                  0.0                  0.0   \n",
      "3                  0.0                  0.0                  0.0   \n",
      "4                  0.0                  0.0                  0.0   \n",
      "\n",
      "   number_of_3_in_open  number_of_4_in_open  number_of_5_in_open  ...  \\\n",
      "0                  0.0                  0.0                  0.0  ...   \n",
      "1                  0.0                  0.0                  0.0  ...   \n",
      "2                  0.0                  0.0                  1.0  ...   \n",
      "3                  0.0                  0.0                  1.0  ...   \n",
      "4                  0.0                  0.0                  1.0  ...   \n",
      "\n",
      "   action_take_open  action_discard  discard_value  id_player_card  \\\n",
      "0               1.0             0.0           30.0             4.0   \n",
      "1               0.0             0.0            2.0             0.0   \n",
      "2               1.0             0.0           30.0             7.0   \n",
      "3               0.0             0.0            0.0             0.0   \n",
      "4               1.0             0.0           30.0             2.0   \n",
      "\n",
      "   numeric_player_card  vanish_marker  turn  score_self  score_other  \\\n",
      "0                  5.0            0.0   0.0        24.0         46.0   \n",
      "1                 -1.0            0.0   1.0        46.0         24.0   \n",
      "2                  8.0            0.0   2.0        24.0         46.0   \n",
      "3                  2.0            0.0   3.0        46.0         24.0   \n",
      "4                 20.0            0.0   4.0        24.0         46.0   \n",
      "\n",
      "   round_number  \n",
      "0           0.0  \n",
      "1           0.0  \n",
      "2           0.0  \n",
      "3           0.0  \n",
      "4           0.0  \n",
      "\n",
      "[5 rows x 52 columns]\n"
     ]
    }
   ],
   "source": [
    "#create data frame \n",
    "df = pd.DataFrame(data = ar.T, index=range(ar.shape[1]),columns = columns)\n",
    "print(df.head())"
   ]
  },
  {
   "cell_type": "code",
   "execution_count": 183,
   "id": "5834a98f",
   "metadata": {},
   "outputs": [
    {
     "data": {
      "text/plain": [
       "Text(0, 0.5, 'human score-computer score [points]')"
      ]
     },
     "execution_count": 183,
     "metadata": {},
     "output_type": "execute_result"
    },
    {
     "data": {
      "image/png": "[encoded data removed]",
      "text/plain": [
       "<Figure size 640x480 with 1 Axes>"
      ]
     },
     "metadata": {},
     "output_type": "display_data"
    }
   ],
   "source": [
    "#slect only human\n",
    "df2=df[df.acting_player==0].groupby(df.round_number).max()\n",
    "plt.plot(df2.round_number,df2.score_self-df2.score_other,'o',ms=5,color='black') \n",
    "#plt.plot(df.round[0],df.score_self-df.score_other,'v',ms=5,color='black',label='train one turn max_depth=4') \n",
    "#plt.legend(loc=\"best\")\n",
    "plt.xscale(\"linear\")\n",
    "#plt.ylim(55,65)\n",
    "plt.xlabel(\"round number\")\n",
    "plt.ylabel(\"human score-computer score [points]\")"
   ]
  },
  {
   "cell_type": "markdown",
   "id": "c1760e71",
   "metadata": {},
   "source": [
    "In the results above it is visible that the human wins (or below 0) partly with only a small adventage while that never happends for then computer. That is because the computer finhss first, when the computer win he has no only the lowest number of points but also the points of the human are doubled causing that there is a gap just over zero. "
   ]
  },
  {
   "cell_type": "code",
   "execution_count": 184,
   "id": "3987a0d6",
   "metadata": {},
   "outputs": [
    {
     "data": {
      "text/plain": [
       "Text(0.5, 0, 'human score-computer score [points]')"
      ]
     },
     "execution_count": 184,
     "metadata": {},
     "output_type": "execute_result"
    },
    {
     "data": {
      "image/png": "[encoded data removed]",
      "text/plain": [
       "<Figure size 640x480 with 1 Axes>"
      ]
     },
     "metadata": {},
     "output_type": "display_data"
    }
   ],
   "source": [
    "#df2.score_self.plot(kind='hist')\n",
    "#df2.score_other.plot(kind='hist')\n",
    "plt.hist(df2.score_self-df2.score_other,color='blue') \n",
    "#plt.plot(df.round[0],df.score_self-df.score_other,'v',ms=5,color='black',label='train one turn max_depth=4') \n",
    "#plt.legend(loc=\"best\")\n",
    "plt.xscale(\"linear\")\n",
    "#plt.ylim(55,65)\n",
    "plt.xlabel(\"number of occurancies\")\n",
    "plt.xlabel(\"human score-computer score [points]\")"
   ]
  },
  {
   "cell_type": "code",
   "execution_count": 185,
   "id": "53f68a6a",
   "metadata": {},
   "outputs": [
    {
     "name": "stdout",
     "output_type": "stream",
     "text": [
      "51 30.0\n",
      "30\n",
      "(30, 2205)\n",
      "[[ 4.  5. -1. ...  7.  0. -1.]\n",
      " [20. -1. 20. ...  1. 20.  1.]\n",
      " [20. 20. 20. ...  0. 30.  0.]\n",
      " ...\n",
      " [30.  2. 30. ...  0. 30. 30.]\n",
      " [ 4.  0.  7. ...  3.  0.  2.]\n",
      " [ 5. -1.  8. ...  0. 20.  2.]]\n"
     ]
    }
   ],
   "source": [
    "#columns used in model \n",
    "level1_2players_columns=np.loadtxt(\"xgb_model1_column2.txt\")\n",
    "#the score columns need to be marked back \n",
    "sel1=np.copy(level1_2players_columns)\n",
    "#the score columns set to 1 since need to be output\n",
    "sel1[49:51]=1\n",
    "\n",
    "#model file needed to run (is in included in function library not needed here but is so more visible) \n",
    "level1_2players_model = XGBRegressor()\n",
    "level1_2players_model.load_model(\"xgb_model2.json\")\n",
    "print(len(level1_2players_columns),sum(level1_2players_columns))\n",
    "#get prediction\n",
    "for_xgb=np.zeros((int(sum(level1_2players_columns)),df.shape[0]))\n",
    "counter=0\n",
    "for i in range(len(level1_2players_columns)):\n",
    "    if level1_2players_columns[i]==1:\n",
    "        for_xgb[counter]=df.iloc[:,i]\n",
    "        counter+=1\n",
    "print(counter)   \n",
    "print(for_xgb.shape)\n",
    "print(for_xgb)"
   ]
  },
  {
   "cell_type": "code",
   "execution_count": 186,
   "id": "dd0cbb97",
   "metadata": {},
   "outputs": [],
   "source": [
    "res=level1_2players_model.predict(for_xgb.T)"
   ]
  },
  {
   "cell_type": "code",
   "execution_count": 187,
   "id": "63eefdfd",
   "metadata": {},
   "outputs": [
    {
     "name": "stdout",
     "output_type": "stream",
     "text": [
      "[ 8.182078  -9.972565  -1.5169258 ... -5.0817165  5.0532537 -8.627794 ]\n"
     ]
    }
   ],
   "source": [
    "print(res)"
   ]
  },
  {
   "cell_type": "code",
   "execution_count": 188,
   "id": "edffed97",
   "metadata": {},
   "outputs": [
    {
     "data": {
      "text/plain": [
       "Text(0, 0.5, 'predicted  human score-computer score')"
      ]
     },
     "execution_count": 188,
     "metadata": {},
     "output_type": "execute_result"
    },
    {
     "data": {
      "image/png": "[encoded data removed]",
      "text/plain": [
       "<Figure size 640x480 with 1 Axes>"
      ]
     },
     "metadata": {},
     "output_type": "display_data"
    }
   ],
   "source": [
    "plt.plot( df.score_self-df.score_other,res,'o',ms=2,color='red') \n",
    "#plt.plot(df.round[0],df.score_self-df.score_other,'v',ms=5,color='black',label='train one turn max_depth=4') \n",
    "#plt.legend(loc=\"best\")\n",
    "plt.xscale(\"linear\")\n",
    "#plt.ylim(55,65)\n",
    "plt.xlabel(\"actual human score-computer score\")\n",
    "plt.ylabel(\"predicted  human score-computer score\")"
   ]
  },
  {
   "cell_type": "code",
   "execution_count": 190,
   "id": "59ac1dd4",
   "metadata": {},
   "outputs": [
    {
     "name": "stdout",
     "output_type": "stream",
     "text": [
      "24.404376561675832\n",
      "13.514308\n",
      "29.119638943157483\n",
      "18.0\n",
      "5.990106105804443\n",
      "14.87537431716919\n",
      "16.97056274847714\n"
     ]
    }
   ],
   "source": [
    "print(np.std(df.score_self-df.score_other))\n",
    "print(np.std(res))\n",
    "print(np.std(res-df.score_self+df.score_other))\n",
    "#add median deviation or something like that \n",
    "print(scipy.stats.median_abs_deviation(df.score_self-df.score_other))\n",
    "print(scipy.stats.median_abs_deviation(res))\n",
    "print(scipy.stats.median_abs_deviation(res-df.score_self-df.score_other))\n",
    "print((18**2-6**2)**0.5)"
   ]
  },
  {
   "cell_type": "markdown",
   "id": "2ec442f3",
   "metadata": {},
   "source": [
    "The prediction is rather bad subtracting it from the score increase the standard deviation instead to decrease it as when it worked as it is the case on computer data. The median deviation looks better, there the deviation reduvces, thus just a few cases are really badly predicted. Still it is possible that using human data more directly is a better strategy.\n",
    "\n",
    "Other ideas use both xgb (old type and more feature engeering on it, change to vanished card n explict feature, likely small N cause a problem) for the next iteration. deep learning only if it is better on the training data.\n",
    "\n",
    "If that does not decrease predictions, then train on human data, more simple model needed, maybe xgb or linear with good features. "
   ]
  },
  {
   "cell_type": "code",
   "execution_count": null,
   "id": "2650e9d1",
   "metadata": {},
   "outputs": [],
   "source": []
  }
 ],
 "metadata": {
  "kernelspec": {
   "display_name": "Python 3 (ipykernel)",
   "language": "python",
   "name": "python3"
  },
  "language_info": {
   "codemirror_mode": {
    "name": "ipython",
    "version": 3
   },
   "file_extension": ".py",
   "mimetype": "text/x-python",
   "name": "python",
   "nbconvert_exporter": "python",
   "pygments_lexer": "ipython3",
   "version": "3.8.15"
  }
 },
 "nbformat": 4,
 "nbformat_minor": 5
}
